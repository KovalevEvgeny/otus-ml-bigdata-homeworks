{
 "cells": [
  {
   "cell_type": "markdown",
   "metadata": {},
   "source": [
    "# Linear Regression in Scala\n",
    "\n",
    "### Author: Kovalev Evgeny"
   ]
  },
  {
   "cell_type": "markdown",
   "metadata": {},
   "source": [
    "In this homework, I needed to analyze and process the data, fit linear regression and estimate quality of the model. I decided to use RMSLE (Root Mean Squared Logarithmic Error) as a quality metric.\n",
    "\n",
    "I used almond Scala 2.12 kernel, Apache Spark for data processing and Breeze for constructing linear regression.\n",
    "\n",
    "_I didn't manage to create plots which I needed in Scala, so I used Python for them instead._"
   ]
  },
  {
   "cell_type": "markdown",
   "metadata": {},
   "source": [
    "## 1. Data analysis"
   ]
  },
  {
   "cell_type": "markdown",
   "metadata": {},
   "source": [
    "### 1.1. Setting up"
   ]
  },
  {
   "cell_type": "markdown",
   "metadata": {},
   "source": [
    "Set up Spark and import `breeze`:"
   ]
  },
  {
   "cell_type": "code",
   "execution_count": 1,
   "metadata": {},
   "outputs": [
    {
     "name": "stdout",
     "output_type": "stream",
     "text": [
      "Loading spark-stubs\n",
      "Getting spark JARs\n"
     ]
    },
    {
     "name": "stderr",
     "output_type": "stream",
     "text": [
      "SLF4J: Class path contains multiple SLF4J bindings.\n",
      "SLF4J: Found binding in [jar:file:/home/jovyan/.cache/coursier/v1/https/repo1.maven.org/maven2/org/slf4j/slf4j-log4j12/1.7.30/slf4j-log4j12-1.7.30.jar!/org/slf4j/impl/StaticLoggerBinder.class]\n",
      "SLF4J: Found binding in [jar:file:/home/jovyan/.cache/coursier/v1/https/repo1.maven.org/maven2/org/slf4j/slf4j-log4j12/1.7.16/slf4j-log4j12-1.7.16.jar!/org/slf4j/impl/StaticLoggerBinder.class]\n",
      "SLF4J: See http://www.slf4j.org/codes.html#multiple_bindings for an explanation.\n",
      "SLF4J: Actual binding is of type [org.slf4j.impl.Log4jLoggerFactory]\n"
     ]
    },
    {
     "name": "stdout",
     "output_type": "stream",
     "text": [
      "Creating SparkSession\n"
     ]
    },
    {
     "name": "stderr",
     "output_type": "stream",
     "text": [
      "Using Spark's default log4j profile: org/apache/spark/log4j-defaults.properties\n"
     ]
    },
    {
     "data": {
      "text/plain": [
       "\u001b[32mimport \u001b[39m\u001b[36m$ivy.$                                    \n",
       "\u001b[39m\n",
       "\u001b[32mimport \u001b[39m\u001b[36m$ivy.$                                  \n",
       "\u001b[39m\n",
       "\u001b[32mimport \u001b[39m\u001b[36m$ivy.$                         \n",
       "\u001b[39m\n",
       "\u001b[32mimport \u001b[39m\u001b[36m$ivy.$                                 \n",
       "\u001b[39m\n",
       "\u001b[32mimport \u001b[39m\u001b[36m$ivy.$                             \n",
       "\n",
       "\u001b[39m\n",
       "\u001b[32mimport \u001b[39m\u001b[36morg.apache.log4j.{Level, Logger}\n",
       "\u001b[39m\n",
       "\u001b[32mimport \u001b[39m\u001b[36morg.apache.spark.sql._\n",
       "\u001b[39m\n",
       "\u001b[32mimport \u001b[39m\u001b[36morg.apache.spark.sql.functions.{col, desc, log1p}\n",
       "\n",
       "\u001b[39m\n",
       "\u001b[32mimport \u001b[39m\u001b[36mbreeze.linalg.{DenseMatrix, DenseVector, pinv}\n",
       "\u001b[39m\n",
       "\u001b[32mimport \u001b[39m\u001b[36mbreeze.stats.distributions.Gaussian\n",
       "\n",
       "\u001b[39m\n",
       "\u001b[32mimport \u001b[39m\u001b[36mscala.math.{log, sqrt}\n",
       "\n",
       "\u001b[39m\n",
       "\u001b[36mspark\u001b[39m: \u001b[32mSparkSession\u001b[39m = org.apache.spark.sql.SparkSession@77f2d6d5"
      ]
     },
     "execution_count": 1,
     "metadata": {},
     "output_type": "execute_result"
    }
   ],
   "source": [
    "// https://github.com/Gorini4/jupyter_scala_docker\n",
    "\n",
    "import $ivy.`org.apache.spark::spark-mllib:3.1.2`\n",
    "import $ivy.`org.apache.spark::spark-sql:2.4.6`\n",
    "import $ivy.`org.scalanlp::breeze:1.2`\n",
    "import $ivy.`org.scalanlp::breeze-natives:1.2`\n",
    "import $ivy.`org.scalanlp::breeze-viz:1.2`\n",
    "\n",
    "import org.apache.log4j.{Level, Logger}\n",
    "Logger.getLogger(\"org\").setLevel(Level.OFF)\n",
    "\n",
    "import org.apache.spark.sql._\n",
    "import org.apache.spark.sql.functions.{col, desc, log1p}\n",
    "\n",
    "import breeze.linalg.{DenseMatrix, DenseVector, pinv}\n",
    "import breeze.stats.distributions.Gaussian\n",
    "\n",
    "import scala.math.{log, sqrt}\n",
    "\n",
    "val spark = {\n",
    "  AmmoniteSparkSession.builder()\n",
    "    .master(\"local[*]\")\n",
    "    .config(\"spark.ui.showConsoleProgress\", \"false\")\n",
    "    .getOrCreate()\n",
    "}"
   ]
  },
  {
   "cell_type": "markdown",
   "metadata": {},
   "source": [
    "A function for visualizing dataframe:"
   ]
  },
  {
   "cell_type": "code",
   "execution_count": 2,
   "metadata": {},
   "outputs": [
    {
     "data": {
      "text/plain": [
       "defined \u001b[32mclass\u001b[39m \u001b[36mRichDF\u001b[39m"
      ]
     },
     "execution_count": 2,
     "metadata": {},
     "output_type": "execute_result"
    }
   ],
   "source": [
    "// https://github.com/almond-sh/almond/issues/180\n",
    "\n",
    "implicit class RichDF(val ds:DataFrame) {\n",
    "    def showHTML(limit:Int = 20, truncate: Int = 20) = {\n",
    "        import xml.Utility.escape\n",
    "        val data = ds.take(limit)\n",
    "        val header = ds.schema.fieldNames.toSeq        \n",
    "        val rows: Seq[Seq[String]] = data.map { row =>\n",
    "          row.toSeq.map { cell =>\n",
    "            val str = cell match {\n",
    "              case null => \"null\"\n",
    "              case binary: Array[Byte] => binary.map(\"%02X\".format(_)).mkString(\"[\", \" \", \"]\")\n",
    "              case array: Array[_] => array.mkString(\"[\", \", \", \"]\")\n",
    "              case seq: Seq[_] => seq.mkString(\"[\", \", \", \"]\")\n",
    "              case _ => cell.toString\n",
    "            }\n",
    "            if (truncate > 0 && str.length > truncate) {\n",
    "              // do not show ellipses for strings shorter than 4 characters.\n",
    "              if (truncate < 4) str.substring(0, truncate)\n",
    "              else str.substring(0, truncate - 3) + \"...\"\n",
    "            } else {\n",
    "              str\n",
    "            }\n",
    "          }: Seq[String]\n",
    "        }\n",
    "\n",
    "        publish.html(s\"\"\" <table>\n",
    "                <tr>\n",
    "                 ${header.map(h => s\"<th>${escape(h)}</th>\").mkString}\n",
    "                </tr>\n",
    "                ${rows.map { row =>\n",
    "                  s\"<tr>${row.map{c => s\"<td>${escape(c)}</td>\" }.mkString}</tr>\"\n",
    "                }.mkString}\n",
    "            </table>\n",
    "        \"\"\")        \n",
    "    }\n",
    "}"
   ]
  },
  {
   "cell_type": "markdown",
   "metadata": {},
   "source": [
    "### 1.2. Basic data things"
   ]
  },
  {
   "cell_type": "markdown",
   "metadata": {},
   "source": [
    "Read dataframe from csv:"
   ]
  },
  {
   "cell_type": "code",
   "execution_count": 3,
   "metadata": {},
   "outputs": [
    {
     "data": {
      "text/html": [
       " <table>\n",
       "                <tr>\n",
       "                 <th>likes</th><th>Checkins</th><th>Returns</th><th>Category</th><th>commBase</th><th>comm24</th><th>comm48</th><th>comm24_1</th><th>diff2448</th><th>baseTime</th><th>length</th><th>shares</th><th>hrs</th><th>sun_pub</th><th>mon_pub</th><th>tue_pub</th><th>wed_pub</th><th>thu_pub</th><th>fri_pub</th><th>sat_pub</th><th>sun_base</th><th>mon_base</th><th>tue_base</th><th>wed_base</th><th>thu_base</th><th>fri_base</th><th>sat_base</th><th>output</th>\n",
       "                </tr>\n",
       "                <tr><td>634995</td><td>0</td><td>463</td><td>1</td><td>0</td><td>0</td><td>0</td><td>0</td><td>0</td><td>65</td><td>166</td><td>2</td><td>24</td><td>0</td><td>0</td><td>0</td><td>1</td><td>0</td><td>0</td><td>0</td><td>0</td><td>0</td><td>0</td><td>0</td><td>0</td><td>0</td><td>1</td><td>0</td></tr><tr><td>634995</td><td>0</td><td>463</td><td>1</td><td>0</td><td>0</td><td>0</td><td>0</td><td>0</td><td>10</td><td>132</td><td>1</td><td>24</td><td>0</td><td>0</td><td>0</td><td>0</td><td>1</td><td>0</td><td>0</td><td>0</td><td>0</td><td>0</td><td>0</td><td>0</td><td>1</td><td>0</td><td>0</td></tr><tr><td>634995</td><td>0</td><td>463</td><td>1</td><td>0</td><td>0</td><td>0</td><td>0</td><td>0</td><td>14</td><td>133</td><td>2</td><td>24</td><td>0</td><td>0</td><td>0</td><td>0</td><td>0</td><td>1</td><td>0</td><td>0</td><td>0</td><td>0</td><td>0</td><td>0</td><td>0</td><td>1</td><td>0</td></tr><tr><td>634995</td><td>0</td><td>463</td><td>1</td><td>7</td><td>0</td><td>3</td><td>7</td><td>-3</td><td>62</td><td>131</td><td>1</td><td>24</td><td>0</td><td>0</td><td>0</td><td>0</td><td>0</td><td>1</td><td>0</td><td>0</td><td>1</td><td>0</td><td>0</td><td>0</td><td>0</td><td>0</td><td>0</td></tr><tr><td>634995</td><td>0</td><td>463</td><td>1</td><td>1</td><td>0</td><td>0</td><td>1</td><td>0</td><td>58</td><td>142</td><td>5</td><td>24</td><td>0</td><td>null</td><td>0</td><td>0</td><td>0</td><td>0</td><td>0</td><td>0</td><td>0</td><td>0</td><td>1</td><td>0</td><td>0</td><td>0</td><td>0</td></tr><tr><td>634995</td><td>0</td><td>463</td><td>1</td><td>0</td><td>0</td><td>null</td><td>0</td><td>0</td><td>60</td><td>166</td><td>1</td><td>24</td><td>0</td><td>0</td><td>1</td><td>0</td><td>0</td><td>0</td><td>0</td><td>0</td><td>0</td><td>0</td><td>0</td><td>0</td><td>1</td><td>0</td><td>0</td></tr><tr><td>634995</td><td>0</td><td>463</td><td>1</td><td>0</td><td>0</td><td>null</td><td>0</td><td>0</td><td>68</td><td>145</td><td>2</td><td>24</td><td>0</td><td>0</td><td>0</td><td>1</td><td>0</td><td>0</td><td>0</td><td>0</td><td>0</td><td>0</td><td>0</td><td>0</td><td>0</td><td>1</td><td>0</td></tr><tr><td>634995</td><td>0</td><td>463</td><td>1</td><td>1</td><td>0</td><td>1</td><td>1</td><td>-1</td><td>32</td><td>157</td><td>2</td><td>24</td><td>0</td><td>0</td><td>0</td><td>0</td><td>1</td><td>0</td><td>0</td><td>0</td><td>0</td><td>0</td><td>0</td><td>0</td><td>0</td><td>1</td><td>0</td></tr><tr><td>634995</td><td>0</td><td>463</td><td>1</td><td>0</td><td>0</td><td>null</td><td>0</td><td>0</td><td>35</td><td>177</td><td>5</td><td>24</td><td>0</td><td>0</td><td>0</td><td>0</td><td>0</td><td>1</td><td>0</td><td>0</td><td>0</td><td>0</td><td>0</td><td>0</td><td>0</td><td>1</td><td>0</td></tr><tr><td>634995</td><td>0</td><td>463</td><td>1</td><td>0</td><td>0</td><td>null</td><td>0</td><td>0</td><td>48</td><td>126</td><td>1</td><td>24</td><td>0</td><td>0</td><td>0</td><td>0</td><td>0</td><td>1</td><td>0</td><td>1</td><td>0</td><td>0</td><td>0</td><td>0</td><td>0</td><td>0</td><td>0</td></tr><tr><td>634995</td><td>0</td><td>463</td><td>1</td><td>0</td><td>0</td><td>null</td><td>0</td><td>0</td><td>52</td><td>188</td><td>1</td><td>24</td><td>0</td><td>0</td><td>0</td><td>0</td><td>0</td><td>1</td><td>0</td><td>1</td><td>0</td><td>0</td><td>0</td><td>0</td><td>0</td><td>0</td><td>0</td></tr><tr><td>634995</td><td>0</td><td>463</td><td>1</td><td>1</td><td>0</td><td>null</td><td>1</td><td>0</td><td>69</td><td>172</td><td>4</td><td>24</td><td>0</td><td>null</td><td>0</td><td>0</td><td>0</td><td>0</td><td>0</td><td>0</td><td>0</td><td>0</td><td>0</td><td>1</td><td>0</td><td>0</td><td>0</td></tr><tr><td>634995</td><td>0</td><td>463</td><td>1</td><td>0</td><td>0</td><td>null</td><td>0</td><td>0</td><td>3</td><td>157</td><td>4</td><td>24</td><td>0</td><td>0</td><td>1</td><td>0</td><td>0</td><td>0</td><td>0</td><td>0</td><td>0</td><td>1</td><td>0</td><td>0</td><td>0</td><td>0</td><td>3</td></tr><tr><td>634995</td><td>0</td><td>463</td><td>1</td><td>1</td><td>1</td><td>0</td><td>1</td><td>1</td><td>37</td><td>126</td><td>1</td><td>24</td><td>0</td><td>0</td><td>0</td><td>1</td><td>null</td><td>0</td><td>0</td><td>0</td><td>0</td><td>0</td><td>0</td><td>0</td><td>1</td><td>0</td><td>0</td></tr><tr><td>634995</td><td>0</td><td>463</td><td>1</td><td>0</td><td>0</td><td>0</td><td>0</td><td>0</td><td>23</td><td>103</td><td>1</td><td>24</td><td>0</td><td>null</td><td>0</td><td>0</td><td>null</td><td>0</td><td>0</td><td>0</td><td>0</td><td>1</td><td>0</td><td>0</td><td>0</td><td>0</td><td>0</td></tr><tr><td>634995</td><td>0</td><td>463</td><td>1</td><td>3</td><td>0</td><td>3</td><td>3</td><td>-3</td><td>40</td><td>158</td><td>4</td><td>24</td><td>0</td><td>0</td><td>1</td><td>0</td><td>null</td><td>0</td><td>0</td><td>0</td><td>0</td><td>0</td><td>0</td><td>1</td><td>0</td><td>0</td><td>0</td></tr><tr><td>634995</td><td>0</td><td>463</td><td>1</td><td>3</td><td>0</td><td>3</td><td>2</td><td>-3</td><td>54</td><td>151</td><td>null</td><td>24</td><td>0</td><td>0</td><td>0</td><td>1</td><td>null</td><td>0</td><td>0</td><td>0</td><td>0</td><td>0</td><td>0</td><td>0</td><td>1</td><td>0</td><td>0</td></tr><tr><td>634995</td><td>0</td><td>463</td><td>1</td><td>0</td><td>0</td><td>0</td><td>0</td><td>0</td><td>29</td><td>133</td><td>1</td><td>24</td><td>0</td><td>0</td><td>0</td><td>1</td><td>null</td><td>0</td><td>0</td><td>0</td><td>0</td><td>0</td><td>0</td><td>0</td><td>1</td><td>0</td><td>0</td></tr><tr><td>634995</td><td>0</td><td>463</td><td>1</td><td>1</td><td>0</td><td>1</td><td>1</td><td>-1</td><td>36</td><td>137</td><td>null</td><td>24</td><td>0</td><td>0</td><td>0</td><td>0</td><td>1</td><td>0</td><td>0</td><td>0</td><td>0</td><td>0</td><td>0</td><td>0</td><td>0</td><td>1</td><td>0</td></tr><tr><td>634995</td><td>0</td><td>463</td><td>1</td><td>0</td><td>0</td><td>0</td><td>0</td><td>0</td><td>11</td><td>106</td><td>null</td><td>24</td><td>0</td><td>0</td><td>0</td><td>0</td><td>null</td><td>1</td><td>0</td><td>0</td><td>0</td><td>0</td><td>0</td><td>0</td><td>0</td><td>1</td><td>0</td></tr>\n",
       "            </table>\n",
       "        "
      ]
     },
     "metadata": {},
     "output_type": "display_data"
    },
    {
     "data": {
      "text/plain": [
       "\u001b[36mdf\u001b[39m: \u001b[32mDataFrame\u001b[39m = [likes: int, Checkins: int ... 26 more fields]"
      ]
     },
     "execution_count": 3,
     "metadata": {},
     "output_type": "execute_result"
    }
   ],
   "source": [
    "// https://stackoverflow.com/questions/29704333/spark-load-csv-file-as-dataframe\n",
    "\n",
    "val df = spark.read\n",
    "         .format(\"csv\")\n",
    "         .format(\"com.databricks.spark.csv\")\n",
    "         .option(\"inferSchema\",\"true\") \n",
    "         .option(\"header\", \"true\") //first line in file has headers\n",
    "         .load(\"data/Dataset.csv\")\n",
    "\n",
    "df.showHTML()"
   ]
  },
  {
   "cell_type": "markdown",
   "metadata": {},
   "source": [
    "Print dataframe shape (number of rows and number of columns):"
   ]
  },
  {
   "cell_type": "code",
   "execution_count": 4,
   "metadata": {
    "scrolled": true
   },
   "outputs": [
    {
     "name": "stdout",
     "output_type": "stream",
     "text": [
      "(40949,28)\n"
     ]
    }
   ],
   "source": [
    "println(df.count(), df.columns.size)"
   ]
  },
  {
   "cell_type": "markdown",
   "metadata": {},
   "source": [
    "Print all columns names:"
   ]
  },
  {
   "cell_type": "code",
   "execution_count": 5,
   "metadata": {},
   "outputs": [
    {
     "data": {
      "text/plain": [
       "\u001b[36mres4\u001b[39m: \u001b[32mSeq\u001b[39m[\u001b[32mString\u001b[39m] = \u001b[33mWrappedArray\u001b[39m(\n",
       "  \u001b[32m\"likes\"\u001b[39m,\n",
       "  \u001b[32m\"Checkins\"\u001b[39m,\n",
       "  \u001b[32m\"Returns\"\u001b[39m,\n",
       "  \u001b[32m\"Category\"\u001b[39m,\n",
       "  \u001b[32m\"commBase\"\u001b[39m,\n",
       "  \u001b[32m\"comm24\"\u001b[39m,\n",
       "  \u001b[32m\"comm48\"\u001b[39m,\n",
       "  \u001b[32m\"comm24_1\"\u001b[39m,\n",
       "  \u001b[32m\"diff2448\"\u001b[39m,\n",
       "  \u001b[32m\"baseTime\"\u001b[39m,\n",
       "  \u001b[32m\"length\"\u001b[39m,\n",
       "  \u001b[32m\"shares\"\u001b[39m,\n",
       "  \u001b[32m\"hrs\"\u001b[39m,\n",
       "  \u001b[32m\"sun_pub\"\u001b[39m,\n",
       "  \u001b[32m\"mon_pub\"\u001b[39m,\n",
       "  \u001b[32m\"tue_pub\"\u001b[39m,\n",
       "  \u001b[32m\"wed_pub\"\u001b[39m,\n",
       "  \u001b[32m\"thu_pub\"\u001b[39m,\n",
       "  \u001b[32m\"fri_pub\"\u001b[39m,\n",
       "  \u001b[32m\"sat_pub\"\u001b[39m,\n",
       "  \u001b[32m\"sun_base\"\u001b[39m,\n",
       "  \u001b[32m\"mon_base\"\u001b[39m,\n",
       "  \u001b[32m\"tue_base\"\u001b[39m,\n",
       "  \u001b[32m\"wed_base\"\u001b[39m,\n",
       "  \u001b[32m\"thu_base\"\u001b[39m,\n",
       "  \u001b[32m\"fri_base\"\u001b[39m,\n",
       "  \u001b[32m\"sat_base\"\u001b[39m,\n",
       "  \u001b[32m\"output\"\u001b[39m\n",
       ")"
      ]
     },
     "execution_count": 5,
     "metadata": {},
     "output_type": "execute_result"
    }
   ],
   "source": [
    "df.columns.toSeq"
   ]
  },
  {
   "cell_type": "markdown",
   "metadata": {},
   "source": [
    "Get columns datatypes:"
   ]
  },
  {
   "cell_type": "code",
   "execution_count": 6,
   "metadata": {},
   "outputs": [
    {
     "data": {
      "text/plain": [
       "\u001b[36mres5\u001b[39m: \u001b[32mArray\u001b[39m[(\u001b[32mString\u001b[39m, \u001b[32mString\u001b[39m)] = \u001b[33mArray\u001b[39m(\n",
       "  (\u001b[32m\"likes\"\u001b[39m, \u001b[32m\"IntegerType\"\u001b[39m),\n",
       "  (\u001b[32m\"Checkins\"\u001b[39m, \u001b[32m\"IntegerType\"\u001b[39m),\n",
       "  (\u001b[32m\"Returns\"\u001b[39m, \u001b[32m\"IntegerType\"\u001b[39m),\n",
       "  (\u001b[32m\"Category\"\u001b[39m, \u001b[32m\"IntegerType\"\u001b[39m),\n",
       "  (\u001b[32m\"commBase\"\u001b[39m, \u001b[32m\"IntegerType\"\u001b[39m),\n",
       "  (\u001b[32m\"comm24\"\u001b[39m, \u001b[32m\"IntegerType\"\u001b[39m),\n",
       "  (\u001b[32m\"comm48\"\u001b[39m, \u001b[32m\"IntegerType\"\u001b[39m),\n",
       "  (\u001b[32m\"comm24_1\"\u001b[39m, \u001b[32m\"IntegerType\"\u001b[39m),\n",
       "  (\u001b[32m\"diff2448\"\u001b[39m, \u001b[32m\"IntegerType\"\u001b[39m),\n",
       "  (\u001b[32m\"baseTime\"\u001b[39m, \u001b[32m\"IntegerType\"\u001b[39m),\n",
       "  (\u001b[32m\"length\"\u001b[39m, \u001b[32m\"IntegerType\"\u001b[39m),\n",
       "  (\u001b[32m\"shares\"\u001b[39m, \u001b[32m\"IntegerType\"\u001b[39m),\n",
       "  (\u001b[32m\"hrs\"\u001b[39m, \u001b[32m\"IntegerType\"\u001b[39m),\n",
       "  (\u001b[32m\"sun_pub\"\u001b[39m, \u001b[32m\"IntegerType\"\u001b[39m),\n",
       "  (\u001b[32m\"mon_pub\"\u001b[39m, \u001b[32m\"IntegerType\"\u001b[39m),\n",
       "  (\u001b[32m\"tue_pub\"\u001b[39m, \u001b[32m\"IntegerType\"\u001b[39m),\n",
       "  (\u001b[32m\"wed_pub\"\u001b[39m, \u001b[32m\"IntegerType\"\u001b[39m),\n",
       "  (\u001b[32m\"thu_pub\"\u001b[39m, \u001b[32m\"IntegerType\"\u001b[39m),\n",
       "  (\u001b[32m\"fri_pub\"\u001b[39m, \u001b[32m\"IntegerType\"\u001b[39m),\n",
       "  (\u001b[32m\"sat_pub\"\u001b[39m, \u001b[32m\"IntegerType\"\u001b[39m),\n",
       "  (\u001b[32m\"sun_base\"\u001b[39m, \u001b[32m\"IntegerType\"\u001b[39m),\n",
       "  (\u001b[32m\"mon_base\"\u001b[39m, \u001b[32m\"IntegerType\"\u001b[39m),\n",
       "  (\u001b[32m\"tue_base\"\u001b[39m, \u001b[32m\"IntegerType\"\u001b[39m),\n",
       "  (\u001b[32m\"wed_base\"\u001b[39m, \u001b[32m\"IntegerType\"\u001b[39m),\n",
       "  (\u001b[32m\"thu_base\"\u001b[39m, \u001b[32m\"IntegerType\"\u001b[39m),\n",
       "  (\u001b[32m\"fri_base\"\u001b[39m, \u001b[32m\"IntegerType\"\u001b[39m),\n",
       "  (\u001b[32m\"sat_base\"\u001b[39m, \u001b[32m\"IntegerType\"\u001b[39m),\n",
       "  (\u001b[32m\"output\"\u001b[39m, \u001b[32m\"IntegerType\"\u001b[39m)\n",
       ")"
      ]
     },
     "execution_count": 6,
     "metadata": {},
     "output_type": "execute_result"
    }
   ],
   "source": [
    "df.dtypes"
   ]
  },
  {
   "cell_type": "markdown",
   "metadata": {},
   "source": [
    "Summary of the target column:"
   ]
  },
  {
   "cell_type": "code",
   "execution_count": 7,
   "metadata": {},
   "outputs": [
    {
     "name": "stdout",
     "output_type": "stream",
     "text": [
      "+-------+-----------------+\n",
      "|summary|           output|\n",
      "+-------+-----------------+\n",
      "|  count|            40949|\n",
      "|   mean|7.322889447849764|\n",
      "| stddev|35.49454978260473|\n",
      "|    min|                0|\n",
      "|    25%|                0|\n",
      "|    50%|                0|\n",
      "|    75%|                3|\n",
      "|    max|             1305|\n",
      "+-------+-----------------+\n",
      "\n"
     ]
    }
   ],
   "source": [
    "df.select(\"output\").summary().show()"
   ]
  },
  {
   "cell_type": "markdown",
   "metadata": {},
   "source": [
    "Correlations of features in the dataframe:"
   ]
  },
  {
   "cell_type": "markdown",
   "metadata": {},
   "source": [
    "<img src=\"images/correlations.jpg\">"
   ]
  },
  {
   "cell_type": "markdown",
   "metadata": {},
   "source": [
    "### 1.3. Checking NaNs"
   ]
  },
  {
   "cell_type": "markdown",
   "metadata": {},
   "source": [
    "Function for checking if there are any missing values in some column:"
   ]
  },
  {
   "cell_type": "code",
   "execution_count": 8,
   "metadata": {},
   "outputs": [
    {
     "data": {
      "text/plain": [
       "\u001b[36mget_nans\u001b[39m: (\u001b[32mDataFrame\u001b[39m, \u001b[32mString\u001b[39m) => \u001b[32mDataFrame\u001b[39m = ammonite.$sess.cmd7$Helper$$Lambda$5709/1449470737@435ecb87"
      ]
     },
     "execution_count": 8,
     "metadata": {},
     "output_type": "execute_result"
    }
   ],
   "source": [
    "val get_nans = (df: DataFrame, col_name: String) => df.withColumn(\n",
    "    col_name + \"_null\", col(col_name).isNull\n",
    ").groupBy(col_name + \"_null\").count()"
   ]
  },
  {
   "cell_type": "markdown",
   "metadata": {},
   "source": [
    "Are there any missing values in the target column?"
   ]
  },
  {
   "cell_type": "code",
   "execution_count": 9,
   "metadata": {},
   "outputs": [
    {
     "name": "stdout",
     "output_type": "stream",
     "text": [
      "+-----------+-----+\n",
      "|output_null|count|\n",
      "+-----------+-----+\n",
      "|      false|40949|\n",
      "+-----------+-----+\n",
      "\n"
     ]
    }
   ],
   "source": [
    "get_nans(df, \"output\").show()"
   ]
  },
  {
   "cell_type": "markdown",
   "metadata": {},
   "source": [
    "Ok, target column has no NaNs. Let us write a method in order to print number of NaNs in every dataframe column in a pretty way:"
   ]
  },
  {
   "cell_type": "code",
   "execution_count": 10,
   "metadata": {},
   "outputs": [
    {
     "name": "stdout",
     "output_type": "stream",
     "text": [
      "likes: no NaNs\n",
      "Checkins: no NaNs\n",
      "Returns: 51 NaNs\n",
      "Category: 57 NaNs\n",
      "commBase: 60 NaNs\n",
      "comm24: no NaNs\n",
      "comm48: 48 NaNs\n",
      "comm24_1: no NaNs\n",
      "diff2448: no NaNs\n",
      "baseTime: no NaNs\n",
      "length: no NaNs\n",
      "shares: 2449 NaNs\n",
      "hrs: no NaNs\n",
      "sun_pub: no NaNs\n",
      "mon_pub: 1927 NaNs\n",
      "tue_pub: no NaNs\n",
      "wed_pub: no NaNs\n",
      "thu_pub: 3045 NaNs\n",
      "fri_pub: no NaNs\n",
      "sat_pub: no NaNs\n",
      "sun_base: no NaNs\n",
      "mon_base: 1970 NaNs\n",
      "tue_base: no NaNs\n",
      "wed_base: no NaNs\n",
      "thu_base: no NaNs\n",
      "fri_base: no NaNs\n",
      "sat_base: no NaNs\n",
      "output: no NaNs\n"
     ]
    },
    {
     "data": {
      "text/plain": [
       "defined \u001b[32mfunction\u001b[39m \u001b[36mgetNaNs\u001b[39m"
      ]
     },
     "execution_count": 10,
     "metadata": {},
     "output_type": "execute_result"
    }
   ],
   "source": [
    "def getNaNs(df: DataFrame, col_name: String): String = {\n",
    "    val df_col = get_nans(df, col_name)\n",
    "    if (df_col.count > 1) {\n",
    "        val nan_count = df_col.where(col_name + \"_null == true\").first()(1)\n",
    "        s\"$col_name: $nan_count NaNs\"\n",
    "    } else {\n",
    "        s\"$col_name: no NaNs\"\n",
    "    }\n",
    "}\n",
    "for (col_name <- df.columns.toSeq) println(getNaNs(df, col_name))"
   ]
  },
  {
   "cell_type": "markdown",
   "metadata": {},
   "source": [
    "### 1.4. Target variable"
   ]
  },
  {
   "cell_type": "markdown",
   "metadata": {},
   "source": [
    "Most popular values of the target variable (with counts sorted in the descending order):"
   ]
  },
  {
   "cell_type": "code",
   "execution_count": 11,
   "metadata": {},
   "outputs": [
    {
     "name": "stdout",
     "output_type": "stream",
     "text": [
      "+------+-----+\n",
      "|output|count|\n",
      "+------+-----+\n",
      "|     0|22579|\n",
      "|     1| 5194|\n",
      "|     2| 2624|\n",
      "|     3| 1583|\n",
      "|     4| 1171|\n",
      "|     5|  836|\n",
      "|     6|  636|\n",
      "|     7|  564|\n",
      "|     8|  414|\n",
      "|     9|  374|\n",
      "|    10|  307|\n",
      "|    11|  300|\n",
      "|    13|  235|\n",
      "|    12|  234|\n",
      "|    15|  220|\n",
      "|    14|  184|\n",
      "|    16|  147|\n",
      "|    17|  143|\n",
      "|    20|  126|\n",
      "|    21|  123|\n",
      "+------+-----+\n",
      "only showing top 20 rows\n",
      "\n"
     ]
    }
   ],
   "source": [
    "// https://stackoverflow.com/questions/51725418/dataframe-how-to-groupby-count-then-order-by-count-in-scala/51726490\n",
    "df.groupBy(\"output\").count().orderBy(desc(\"count\")).show()"
   ]
  },
  {
   "cell_type": "markdown",
   "metadata": {},
   "source": [
    "Quantiles for the target variable:"
   ]
  },
  {
   "cell_type": "code",
   "execution_count": 12,
   "metadata": {},
   "outputs": [
    {
     "name": "stdout",
     "output_type": "stream",
     "text": [
      "25% quantile: 0.0\n",
      "50% quantile: 0.0\n",
      "75% quantile: 3.0\n"
     ]
    },
    {
     "data": {
      "text/plain": [
       "\u001b[36mquantiles\u001b[39m: \u001b[32mArray\u001b[39m[\u001b[32mDouble\u001b[39m] = \u001b[33mArray\u001b[39m(\u001b[32m0.0\u001b[39m, \u001b[32m0.0\u001b[39m, \u001b[32m3.0\u001b[39m)"
      ]
     },
     "execution_count": 12,
     "metadata": {},
     "output_type": "execute_result"
    }
   ],
   "source": [
    "// https://towardsdatascience.com/exploratory-data-analysis-eda-with-pyspark-on-databricks-e8d6529626b1\n",
    "val quantiles = df.stat.approxQuantile(\"output\", Array(0.25, 0.5, 0.75), 0)\n",
    "println(\"25% quantile: \" + quantiles(0))\n",
    "println(\"50% quantile: \" + quantiles(1))\n",
    "println(\"75% quantile: \" + quantiles(2))"
   ]
  },
  {
   "cell_type": "markdown",
   "metadata": {},
   "source": [
    "We can see that the distribution of the target variable is extremely skewed towards zero. Let's check it by plotting a histogram of logarithm of its values:"
   ]
  },
  {
   "cell_type": "markdown",
   "metadata": {},
   "source": [
    "<img src=\"images/histogram_log-output.jpg\">"
   ]
  },
  {
   "cell_type": "markdown",
   "metadata": {},
   "source": [
    "## 2. Data preprocessing"
   ]
  },
  {
   "cell_type": "markdown",
   "metadata": {},
   "source": [
    "### 2.1. Filling NaNs"
   ]
  },
  {
   "cell_type": "markdown",
   "metadata": {},
   "source": [
    "Fill missing values:"
   ]
  },
  {
   "cell_type": "code",
   "execution_count": 13,
   "metadata": {},
   "outputs": [
    {
     "name": "stdout",
     "output_type": "stream",
     "text": [
      "Before preprocessing | Returns: 51 NaNs\n",
      "After preprocessing | Returns: no NaNs\n"
     ]
    }
   ],
   "source": [
    "println(\"Before preprocessing | \" + getNaNs(df, \"Returns\"))\n",
    "println(\"After preprocessing | \" + getNaNs(df.na.fill(0, Seq(\"Returns\")), \"Returns\"))"
   ]
  },
  {
   "cell_type": "code",
   "execution_count": 14,
   "metadata": {
    "scrolled": false
   },
   "outputs": [
    {
     "name": "stdout",
     "output_type": "stream",
     "text": [
      "likes: no NaNs\n",
      "Checkins: no NaNs\n",
      "Returns: no NaNs\n",
      "Category: no NaNs\n",
      "commBase: no NaNs\n",
      "comm24: no NaNs\n",
      "comm48: no NaNs\n",
      "comm24_1: no NaNs\n",
      "diff2448: no NaNs\n",
      "baseTime: no NaNs\n",
      "length: no NaNs\n",
      "shares: no NaNs\n",
      "hrs: no NaNs\n",
      "sun_pub: no NaNs\n",
      "mon_pub: no NaNs\n",
      "tue_pub: no NaNs\n",
      "wed_pub: no NaNs\n",
      "thu_pub: no NaNs\n",
      "fri_pub: no NaNs\n",
      "sat_pub: no NaNs\n",
      "sun_base: no NaNs\n",
      "mon_base: no NaNs\n",
      "tue_base: no NaNs\n",
      "wed_base: no NaNs\n",
      "thu_base: no NaNs\n",
      "fri_base: no NaNs\n",
      "sat_base: no NaNs\n",
      "output: no NaNs\n"
     ]
    },
    {
     "data": {
      "text/plain": [
       "\u001b[36mdf_nonans\u001b[39m: \u001b[32mDataFrame\u001b[39m = [likes: int, Checkins: int ... 26 more fields]"
      ]
     },
     "execution_count": 14,
     "metadata": {},
     "output_type": "execute_result"
    }
   ],
   "source": [
    "val df_nonans = df.na.fill(0)\n",
    "for (col_name <- df_nonans.columns.toSeq) println(getNaNs(df_nonans, col_name))"
   ]
  },
  {
   "cell_type": "markdown",
   "metadata": {},
   "source": [
    "### 2.2. Transforming target"
   ]
  },
  {
   "cell_type": "markdown",
   "metadata": {},
   "source": [
    "During data analysis, we saw that target variable distribution is extremely skewed. Let's perform log-transformation of the target variable:"
   ]
  },
  {
   "cell_type": "code",
   "execution_count": 15,
   "metadata": {},
   "outputs": [
    {
     "data": {
      "text/plain": [
       "\u001b[36mres14\u001b[39m: \u001b[32mDataFrame\u001b[39m = [likes: int, Checkins: int ... 27 more fields]"
      ]
     },
     "execution_count": 15,
     "metadata": {},
     "output_type": "execute_result"
    }
   ],
   "source": [
    "df_nonans.withColumn(\"output_log\", log1p(\"output\"))"
   ]
  },
  {
   "cell_type": "code",
   "execution_count": 16,
   "metadata": {},
   "outputs": [
    {
     "data": {
      "text/html": [
       " <table>\n",
       "                <tr>\n",
       "                 <th>output</th><th>output_log</th>\n",
       "                </tr>\n",
       "                <tr><td>0</td><td>0.0</td></tr><tr><td>0</td><td>0.0</td></tr><tr><td>0</td><td>0.0</td></tr><tr><td>0</td><td>0.0</td></tr><tr><td>0</td><td>0.0</td></tr><tr><td>0</td><td>0.0</td></tr><tr><td>0</td><td>0.0</td></tr><tr><td>0</td><td>0.0</td></tr><tr><td>0</td><td>0.0</td></tr><tr><td>0</td><td>0.0</td></tr><tr><td>0</td><td>0.0</td></tr><tr><td>0</td><td>0.0</td></tr><tr><td>3</td><td>1.3862943611198906</td></tr><tr><td>0</td><td>0.0</td></tr><tr><td>0</td><td>0.0</td></tr><tr><td>0</td><td>0.0</td></tr><tr><td>0</td><td>0.0</td></tr><tr><td>0</td><td>0.0</td></tr><tr><td>0</td><td>0.0</td></tr><tr><td>0</td><td>0.0</td></tr><tr><td>0</td><td>0.0</td></tr><tr><td>5</td><td>1.791759469228055</td></tr><tr><td>0</td><td>0.0</td></tr><tr><td>0</td><td>0.0</td></tr><tr><td>0</td><td>0.0</td></tr><tr><td>0</td><td>0.0</td></tr><tr><td>2</td><td>1.0986122886681096</td></tr><tr><td>0</td><td>0.0</td></tr><tr><td>0</td><td>0.0</td></tr><tr><td>0</td><td>0.0</td></tr>\n",
       "            </table>\n",
       "        "
      ]
     },
     "metadata": {},
     "output_type": "display_data"
    },
    {
     "data": {
      "text/plain": [
       "\u001b[36mdf_log\u001b[39m: \u001b[32mDataFrame\u001b[39m = [likes: int, Checkins: int ... 27 more fields]"
      ]
     },
     "execution_count": 16,
     "metadata": {},
     "output_type": "execute_result"
    }
   ],
   "source": [
    "// log1p is used (log(x + 1)) to avoid NaNs if x = 0\n",
    "\n",
    "val df_log = df_nonans.withColumn(\"output_log\", log1p(\"output\")).na.fill(-1)\n",
    "df_log.select(\"output\", \"output_log\").showHTML(30)"
   ]
  },
  {
   "cell_type": "markdown",
   "metadata": {},
   "source": [
    "Drop the original target variable:"
   ]
  },
  {
   "cell_type": "code",
   "execution_count": 17,
   "metadata": {},
   "outputs": [
    {
     "data": {
      "text/html": [
       " <table>\n",
       "                <tr>\n",
       "                 <th>likes</th><th>Checkins</th><th>Returns</th><th>Category</th><th>commBase</th><th>comm24</th><th>comm48</th><th>comm24_1</th><th>diff2448</th><th>baseTime</th><th>length</th><th>shares</th><th>hrs</th><th>sun_pub</th><th>mon_pub</th><th>tue_pub</th><th>wed_pub</th><th>thu_pub</th><th>fri_pub</th><th>sat_pub</th><th>sun_base</th><th>mon_base</th><th>tue_base</th><th>wed_base</th><th>thu_base</th><th>fri_base</th><th>sat_base</th><th>output_log</th>\n",
       "                </tr>\n",
       "                <tr><td>634995</td><td>0</td><td>463</td><td>1</td><td>0</td><td>0</td><td>0</td><td>0</td><td>0</td><td>65</td><td>166</td><td>2</td><td>24</td><td>0</td><td>0</td><td>0</td><td>1</td><td>0</td><td>0</td><td>0</td><td>0</td><td>0</td><td>0</td><td>0</td><td>0</td><td>0</td><td>1</td><td>0.0</td></tr><tr><td>634995</td><td>0</td><td>463</td><td>1</td><td>0</td><td>0</td><td>0</td><td>0</td><td>0</td><td>10</td><td>132</td><td>1</td><td>24</td><td>0</td><td>0</td><td>0</td><td>0</td><td>1</td><td>0</td><td>0</td><td>0</td><td>0</td><td>0</td><td>0</td><td>0</td><td>1</td><td>0</td><td>0.0</td></tr><tr><td>634995</td><td>0</td><td>463</td><td>1</td><td>0</td><td>0</td><td>0</td><td>0</td><td>0</td><td>14</td><td>133</td><td>2</td><td>24</td><td>0</td><td>0</td><td>0</td><td>0</td><td>0</td><td>1</td><td>0</td><td>0</td><td>0</td><td>0</td><td>0</td><td>0</td><td>0</td><td>1</td><td>0.0</td></tr><tr><td>634995</td><td>0</td><td>463</td><td>1</td><td>7</td><td>0</td><td>3</td><td>7</td><td>-3</td><td>62</td><td>131</td><td>1</td><td>24</td><td>0</td><td>0</td><td>0</td><td>0</td><td>0</td><td>1</td><td>0</td><td>0</td><td>1</td><td>0</td><td>0</td><td>0</td><td>0</td><td>0</td><td>0.0</td></tr><tr><td>634995</td><td>0</td><td>463</td><td>1</td><td>1</td><td>0</td><td>0</td><td>1</td><td>0</td><td>58</td><td>142</td><td>5</td><td>24</td><td>0</td><td>0</td><td>0</td><td>0</td><td>0</td><td>0</td><td>0</td><td>0</td><td>0</td><td>0</td><td>1</td><td>0</td><td>0</td><td>0</td><td>0.0</td></tr><tr><td>634995</td><td>0</td><td>463</td><td>1</td><td>0</td><td>0</td><td>0</td><td>0</td><td>0</td><td>60</td><td>166</td><td>1</td><td>24</td><td>0</td><td>0</td><td>1</td><td>0</td><td>0</td><td>0</td><td>0</td><td>0</td><td>0</td><td>0</td><td>0</td><td>0</td><td>1</td><td>0</td><td>0.0</td></tr><tr><td>634995</td><td>0</td><td>463</td><td>1</td><td>0</td><td>0</td><td>0</td><td>0</td><td>0</td><td>68</td><td>145</td><td>2</td><td>24</td><td>0</td><td>0</td><td>0</td><td>1</td><td>0</td><td>0</td><td>0</td><td>0</td><td>0</td><td>0</td><td>0</td><td>0</td><td>0</td><td>1</td><td>0.0</td></tr><tr><td>634995</td><td>0</td><td>463</td><td>1</td><td>1</td><td>0</td><td>1</td><td>1</td><td>-1</td><td>32</td><td>157</td><td>2</td><td>24</td><td>0</td><td>0</td><td>0</td><td>0</td><td>1</td><td>0</td><td>0</td><td>0</td><td>0</td><td>0</td><td>0</td><td>0</td><td>0</td><td>1</td><td>0.0</td></tr><tr><td>634995</td><td>0</td><td>463</td><td>1</td><td>0</td><td>0</td><td>0</td><td>0</td><td>0</td><td>35</td><td>177</td><td>5</td><td>24</td><td>0</td><td>0</td><td>0</td><td>0</td><td>0</td><td>1</td><td>0</td><td>0</td><td>0</td><td>0</td><td>0</td><td>0</td><td>0</td><td>1</td><td>0.0</td></tr><tr><td>634995</td><td>0</td><td>463</td><td>1</td><td>0</td><td>0</td><td>0</td><td>0</td><td>0</td><td>48</td><td>126</td><td>1</td><td>24</td><td>0</td><td>0</td><td>0</td><td>0</td><td>0</td><td>1</td><td>0</td><td>1</td><td>0</td><td>0</td><td>0</td><td>0</td><td>0</td><td>0</td><td>0.0</td></tr><tr><td>634995</td><td>0</td><td>463</td><td>1</td><td>0</td><td>0</td><td>0</td><td>0</td><td>0</td><td>52</td><td>188</td><td>1</td><td>24</td><td>0</td><td>0</td><td>0</td><td>0</td><td>0</td><td>1</td><td>0</td><td>1</td><td>0</td><td>0</td><td>0</td><td>0</td><td>0</td><td>0</td><td>0.0</td></tr><tr><td>634995</td><td>0</td><td>463</td><td>1</td><td>1</td><td>0</td><td>0</td><td>1</td><td>0</td><td>69</td><td>172</td><td>4</td><td>24</td><td>0</td><td>0</td><td>0</td><td>0</td><td>0</td><td>0</td><td>0</td><td>0</td><td>0</td><td>0</td><td>0</td><td>1</td><td>0</td><td>0</td><td>0.0</td></tr><tr><td>634995</td><td>0</td><td>463</td><td>1</td><td>0</td><td>0</td><td>0</td><td>0</td><td>0</td><td>3</td><td>157</td><td>4</td><td>24</td><td>0</td><td>0</td><td>1</td><td>0</td><td>0</td><td>0</td><td>0</td><td>0</td><td>0</td><td>1</td><td>0</td><td>0</td><td>0</td><td>0</td><td>1.3862943611198906</td></tr><tr><td>634995</td><td>0</td><td>463</td><td>1</td><td>1</td><td>1</td><td>0</td><td>1</td><td>1</td><td>37</td><td>126</td><td>1</td><td>24</td><td>0</td><td>0</td><td>0</td><td>1</td><td>0</td><td>0</td><td>0</td><td>0</td><td>0</td><td>0</td><td>0</td><td>0</td><td>1</td><td>0</td><td>0.0</td></tr><tr><td>634995</td><td>0</td><td>463</td><td>1</td><td>0</td><td>0</td><td>0</td><td>0</td><td>0</td><td>23</td><td>103</td><td>1</td><td>24</td><td>0</td><td>0</td><td>0</td><td>0</td><td>0</td><td>0</td><td>0</td><td>0</td><td>0</td><td>1</td><td>0</td><td>0</td><td>0</td><td>0</td><td>0.0</td></tr><tr><td>634995</td><td>0</td><td>463</td><td>1</td><td>3</td><td>0</td><td>3</td><td>3</td><td>-3</td><td>40</td><td>158</td><td>4</td><td>24</td><td>0</td><td>0</td><td>1</td><td>0</td><td>0</td><td>0</td><td>0</td><td>0</td><td>0</td><td>0</td><td>0</td><td>1</td><td>0</td><td>0</td><td>0.0</td></tr><tr><td>634995</td><td>0</td><td>463</td><td>1</td><td>3</td><td>0</td><td>3</td><td>2</td><td>-3</td><td>54</td><td>151</td><td>0</td><td>24</td><td>0</td><td>0</td><td>0</td><td>1</td><td>0</td><td>0</td><td>0</td><td>0</td><td>0</td><td>0</td><td>0</td><td>0</td><td>1</td><td>0</td><td>0.0</td></tr><tr><td>634995</td><td>0</td><td>463</td><td>1</td><td>0</td><td>0</td><td>0</td><td>0</td><td>0</td><td>29</td><td>133</td><td>1</td><td>24</td><td>0</td><td>0</td><td>0</td><td>1</td><td>0</td><td>0</td><td>0</td><td>0</td><td>0</td><td>0</td><td>0</td><td>0</td><td>1</td><td>0</td><td>0.0</td></tr><tr><td>634995</td><td>0</td><td>463</td><td>1</td><td>1</td><td>0</td><td>1</td><td>1</td><td>-1</td><td>36</td><td>137</td><td>0</td><td>24</td><td>0</td><td>0</td><td>0</td><td>0</td><td>1</td><td>0</td><td>0</td><td>0</td><td>0</td><td>0</td><td>0</td><td>0</td><td>0</td><td>1</td><td>0.0</td></tr><tr><td>634995</td><td>0</td><td>463</td><td>1</td><td>0</td><td>0</td><td>0</td><td>0</td><td>0</td><td>11</td><td>106</td><td>0</td><td>24</td><td>0</td><td>0</td><td>0</td><td>0</td><td>0</td><td>1</td><td>0</td><td>0</td><td>0</td><td>0</td><td>0</td><td>0</td><td>0</td><td>1</td><td>0.0</td></tr>\n",
       "            </table>\n",
       "        "
      ]
     },
     "metadata": {},
     "output_type": "display_data"
    },
    {
     "data": {
      "text/plain": [
       "\u001b[36mdf_logtarget\u001b[39m: \u001b[32mDataFrame\u001b[39m = [likes: int, Checkins: int ... 26 more fields]"
      ]
     },
     "execution_count": 17,
     "metadata": {},
     "output_type": "execute_result"
    }
   ],
   "source": [
    "val df_logtarget = df_log.drop(\"output\")\n",
    "df_logtarget.showHTML()"
   ]
  },
  {
   "cell_type": "markdown",
   "metadata": {},
   "source": [
    "### 2.3. Changing columns type"
   ]
  },
  {
   "cell_type": "markdown",
   "metadata": {},
   "source": [
    "Convert all columns to double in order to form `DenseMatrix` in `breeze` further:"
   ]
  },
  {
   "cell_type": "code",
   "execution_count": 18,
   "metadata": {},
   "outputs": [
    {
     "data": {
      "text/html": [
       " <table>\n",
       "                <tr>\n",
       "                 <th>likes</th><th>Checkins</th><th>Returns</th><th>Category</th><th>commBase</th><th>comm24</th><th>comm48</th><th>comm24_1</th><th>diff2448</th><th>baseTime</th><th>length</th><th>shares</th><th>hrs</th><th>sun_pub</th><th>mon_pub</th><th>tue_pub</th><th>wed_pub</th><th>thu_pub</th><th>fri_pub</th><th>sat_pub</th><th>sun_base</th><th>mon_base</th><th>tue_base</th><th>wed_base</th><th>thu_base</th><th>fri_base</th><th>sat_base</th><th>output_log</th>\n",
       "                </tr>\n",
       "                <tr><td>634995.0</td><td>0.0</td><td>463.0</td><td>1.0</td><td>0.0</td><td>0.0</td><td>0.0</td><td>0.0</td><td>0.0</td><td>65.0</td><td>166.0</td><td>2.0</td><td>24.0</td><td>0.0</td><td>0.0</td><td>0.0</td><td>1.0</td><td>0.0</td><td>0.0</td><td>0.0</td><td>0.0</td><td>0.0</td><td>0.0</td><td>0.0</td><td>0.0</td><td>0.0</td><td>1.0</td><td>0.0</td></tr><tr><td>634995.0</td><td>0.0</td><td>463.0</td><td>1.0</td><td>0.0</td><td>0.0</td><td>0.0</td><td>0.0</td><td>0.0</td><td>10.0</td><td>132.0</td><td>1.0</td><td>24.0</td><td>0.0</td><td>0.0</td><td>0.0</td><td>0.0</td><td>1.0</td><td>0.0</td><td>0.0</td><td>0.0</td><td>0.0</td><td>0.0</td><td>0.0</td><td>0.0</td><td>1.0</td><td>0.0</td><td>0.0</td></tr><tr><td>634995.0</td><td>0.0</td><td>463.0</td><td>1.0</td><td>0.0</td><td>0.0</td><td>0.0</td><td>0.0</td><td>0.0</td><td>14.0</td><td>133.0</td><td>2.0</td><td>24.0</td><td>0.0</td><td>0.0</td><td>0.0</td><td>0.0</td><td>0.0</td><td>1.0</td><td>0.0</td><td>0.0</td><td>0.0</td><td>0.0</td><td>0.0</td><td>0.0</td><td>0.0</td><td>1.0</td><td>0.0</td></tr><tr><td>634995.0</td><td>0.0</td><td>463.0</td><td>1.0</td><td>7.0</td><td>0.0</td><td>3.0</td><td>7.0</td><td>-3.0</td><td>62.0</td><td>131.0</td><td>1.0</td><td>24.0</td><td>0.0</td><td>0.0</td><td>0.0</td><td>0.0</td><td>0.0</td><td>1.0</td><td>0.0</td><td>0.0</td><td>1.0</td><td>0.0</td><td>0.0</td><td>0.0</td><td>0.0</td><td>0.0</td><td>0.0</td></tr><tr><td>634995.0</td><td>0.0</td><td>463.0</td><td>1.0</td><td>1.0</td><td>0.0</td><td>0.0</td><td>1.0</td><td>0.0</td><td>58.0</td><td>142.0</td><td>5.0</td><td>24.0</td><td>0.0</td><td>0.0</td><td>0.0</td><td>0.0</td><td>0.0</td><td>0.0</td><td>0.0</td><td>0.0</td><td>0.0</td><td>0.0</td><td>1.0</td><td>0.0</td><td>0.0</td><td>0.0</td><td>0.0</td></tr><tr><td>634995.0</td><td>0.0</td><td>463.0</td><td>1.0</td><td>0.0</td><td>0.0</td><td>0.0</td><td>0.0</td><td>0.0</td><td>60.0</td><td>166.0</td><td>1.0</td><td>24.0</td><td>0.0</td><td>0.0</td><td>1.0</td><td>0.0</td><td>0.0</td><td>0.0</td><td>0.0</td><td>0.0</td><td>0.0</td><td>0.0</td><td>0.0</td><td>0.0</td><td>1.0</td><td>0.0</td><td>0.0</td></tr><tr><td>634995.0</td><td>0.0</td><td>463.0</td><td>1.0</td><td>0.0</td><td>0.0</td><td>0.0</td><td>0.0</td><td>0.0</td><td>68.0</td><td>145.0</td><td>2.0</td><td>24.0</td><td>0.0</td><td>0.0</td><td>0.0</td><td>1.0</td><td>0.0</td><td>0.0</td><td>0.0</td><td>0.0</td><td>0.0</td><td>0.0</td><td>0.0</td><td>0.0</td><td>0.0</td><td>1.0</td><td>0.0</td></tr><tr><td>634995.0</td><td>0.0</td><td>463.0</td><td>1.0</td><td>1.0</td><td>0.0</td><td>1.0</td><td>1.0</td><td>-1.0</td><td>32.0</td><td>157.0</td><td>2.0</td><td>24.0</td><td>0.0</td><td>0.0</td><td>0.0</td><td>0.0</td><td>1.0</td><td>0.0</td><td>0.0</td><td>0.0</td><td>0.0</td><td>0.0</td><td>0.0</td><td>0.0</td><td>0.0</td><td>1.0</td><td>0.0</td></tr><tr><td>634995.0</td><td>0.0</td><td>463.0</td><td>1.0</td><td>0.0</td><td>0.0</td><td>0.0</td><td>0.0</td><td>0.0</td><td>35.0</td><td>177.0</td><td>5.0</td><td>24.0</td><td>0.0</td><td>0.0</td><td>0.0</td><td>0.0</td><td>0.0</td><td>1.0</td><td>0.0</td><td>0.0</td><td>0.0</td><td>0.0</td><td>0.0</td><td>0.0</td><td>0.0</td><td>1.0</td><td>0.0</td></tr><tr><td>634995.0</td><td>0.0</td><td>463.0</td><td>1.0</td><td>0.0</td><td>0.0</td><td>0.0</td><td>0.0</td><td>0.0</td><td>48.0</td><td>126.0</td><td>1.0</td><td>24.0</td><td>0.0</td><td>0.0</td><td>0.0</td><td>0.0</td><td>0.0</td><td>1.0</td><td>0.0</td><td>1.0</td><td>0.0</td><td>0.0</td><td>0.0</td><td>0.0</td><td>0.0</td><td>0.0</td><td>0.0</td></tr><tr><td>634995.0</td><td>0.0</td><td>463.0</td><td>1.0</td><td>0.0</td><td>0.0</td><td>0.0</td><td>0.0</td><td>0.0</td><td>52.0</td><td>188.0</td><td>1.0</td><td>24.0</td><td>0.0</td><td>0.0</td><td>0.0</td><td>0.0</td><td>0.0</td><td>1.0</td><td>0.0</td><td>1.0</td><td>0.0</td><td>0.0</td><td>0.0</td><td>0.0</td><td>0.0</td><td>0.0</td><td>0.0</td></tr><tr><td>634995.0</td><td>0.0</td><td>463.0</td><td>1.0</td><td>1.0</td><td>0.0</td><td>0.0</td><td>1.0</td><td>0.0</td><td>69.0</td><td>172.0</td><td>4.0</td><td>24.0</td><td>0.0</td><td>0.0</td><td>0.0</td><td>0.0</td><td>0.0</td><td>0.0</td><td>0.0</td><td>0.0</td><td>0.0</td><td>0.0</td><td>0.0</td><td>1.0</td><td>0.0</td><td>0.0</td><td>0.0</td></tr><tr><td>634995.0</td><td>0.0</td><td>463.0</td><td>1.0</td><td>0.0</td><td>0.0</td><td>0.0</td><td>0.0</td><td>0.0</td><td>3.0</td><td>157.0</td><td>4.0</td><td>24.0</td><td>0.0</td><td>0.0</td><td>1.0</td><td>0.0</td><td>0.0</td><td>0.0</td><td>0.0</td><td>0.0</td><td>0.0</td><td>1.0</td><td>0.0</td><td>0.0</td><td>0.0</td><td>0.0</td><td>1.3862943611198906</td></tr><tr><td>634995.0</td><td>0.0</td><td>463.0</td><td>1.0</td><td>1.0</td><td>1.0</td><td>0.0</td><td>1.0</td><td>1.0</td><td>37.0</td><td>126.0</td><td>1.0</td><td>24.0</td><td>0.0</td><td>0.0</td><td>0.0</td><td>1.0</td><td>0.0</td><td>0.0</td><td>0.0</td><td>0.0</td><td>0.0</td><td>0.0</td><td>0.0</td><td>0.0</td><td>1.0</td><td>0.0</td><td>0.0</td></tr><tr><td>634995.0</td><td>0.0</td><td>463.0</td><td>1.0</td><td>0.0</td><td>0.0</td><td>0.0</td><td>0.0</td><td>0.0</td><td>23.0</td><td>103.0</td><td>1.0</td><td>24.0</td><td>0.0</td><td>0.0</td><td>0.0</td><td>0.0</td><td>0.0</td><td>0.0</td><td>0.0</td><td>0.0</td><td>0.0</td><td>1.0</td><td>0.0</td><td>0.0</td><td>0.0</td><td>0.0</td><td>0.0</td></tr><tr><td>634995.0</td><td>0.0</td><td>463.0</td><td>1.0</td><td>3.0</td><td>0.0</td><td>3.0</td><td>3.0</td><td>-3.0</td><td>40.0</td><td>158.0</td><td>4.0</td><td>24.0</td><td>0.0</td><td>0.0</td><td>1.0</td><td>0.0</td><td>0.0</td><td>0.0</td><td>0.0</td><td>0.0</td><td>0.0</td><td>0.0</td><td>0.0</td><td>1.0</td><td>0.0</td><td>0.0</td><td>0.0</td></tr><tr><td>634995.0</td><td>0.0</td><td>463.0</td><td>1.0</td><td>3.0</td><td>0.0</td><td>3.0</td><td>2.0</td><td>-3.0</td><td>54.0</td><td>151.0</td><td>0.0</td><td>24.0</td><td>0.0</td><td>0.0</td><td>0.0</td><td>1.0</td><td>0.0</td><td>0.0</td><td>0.0</td><td>0.0</td><td>0.0</td><td>0.0</td><td>0.0</td><td>0.0</td><td>1.0</td><td>0.0</td><td>0.0</td></tr><tr><td>634995.0</td><td>0.0</td><td>463.0</td><td>1.0</td><td>0.0</td><td>0.0</td><td>0.0</td><td>0.0</td><td>0.0</td><td>29.0</td><td>133.0</td><td>1.0</td><td>24.0</td><td>0.0</td><td>0.0</td><td>0.0</td><td>1.0</td><td>0.0</td><td>0.0</td><td>0.0</td><td>0.0</td><td>0.0</td><td>0.0</td><td>0.0</td><td>0.0</td><td>1.0</td><td>0.0</td><td>0.0</td></tr><tr><td>634995.0</td><td>0.0</td><td>463.0</td><td>1.0</td><td>1.0</td><td>0.0</td><td>1.0</td><td>1.0</td><td>-1.0</td><td>36.0</td><td>137.0</td><td>0.0</td><td>24.0</td><td>0.0</td><td>0.0</td><td>0.0</td><td>0.0</td><td>1.0</td><td>0.0</td><td>0.0</td><td>0.0</td><td>0.0</td><td>0.0</td><td>0.0</td><td>0.0</td><td>0.0</td><td>1.0</td><td>0.0</td></tr><tr><td>634995.0</td><td>0.0</td><td>463.0</td><td>1.0</td><td>0.0</td><td>0.0</td><td>0.0</td><td>0.0</td><td>0.0</td><td>11.0</td><td>106.0</td><td>0.0</td><td>24.0</td><td>0.0</td><td>0.0</td><td>0.0</td><td>0.0</td><td>0.0</td><td>1.0</td><td>0.0</td><td>0.0</td><td>0.0</td><td>0.0</td><td>0.0</td><td>0.0</td><td>0.0</td><td>1.0</td><td>0.0</td></tr>\n",
       "            </table>\n",
       "        "
      ]
     },
     "metadata": {},
     "output_type": "display_data"
    },
    {
     "data": {
      "text/plain": [
       "\u001b[36mdf_processed\u001b[39m: \u001b[32mDataFrame\u001b[39m = [likes: double, Checkins: double ... 26 more fields]"
      ]
     },
     "execution_count": 18,
     "metadata": {},
     "output_type": "execute_result"
    }
   ],
   "source": [
    "val df_processed = df_logtarget.select(df_logtarget.columns.toSeq.map(\n",
    "    c => col(c).cast(\"double\")\n",
    "): _*)\n",
    "df_processed.showHTML()"
   ]
  },
  {
   "cell_type": "markdown",
   "metadata": {},
   "source": [
    "## 3. Linear regression"
   ]
  },
  {
   "cell_type": "markdown",
   "metadata": {},
   "source": [
    "### 3.1. Getting X and y"
   ]
  },
  {
   "cell_type": "markdown",
   "metadata": {},
   "source": [
    "First, let's construct dense feature matrix `X`. I could not come up with the idea how to perform a similar operation for many columns, so I decided to concatenate two supplementary dense matrices and bias vector."
   ]
  },
  {
   "cell_type": "code",
   "execution_count": 19,
   "metadata": {},
   "outputs": [
    {
     "data": {
      "text/plain": [
       "\u001b[36mdm1\u001b[39m: \u001b[32mDenseMatrix\u001b[39m[\u001b[32mDouble\u001b[39m] = 634995.0  0.0  463.0  1.0  0.0   0.0   0.0   0.0   0.0    65.0  ... (14 total)\n",
       "634995.0  0.0  463.0  1.0  0.0   0.0   0.0   0.0   0.0    10.0  ...\n",
       "634995.0  0.0  463.0  1.0  0.0   0.0   0.0   0.0   0.0    14.0  ...\n",
       "634995.0  0.0  463.0  1.0  7.0   0.0   3.0   7.0   -3.0   62.0  ...\n",
       "634995.0  0.0  463.0  1.0  1.0   0.0   0.0   1.0   0.0    58.0  ...\n",
       "634995.0  0.0  463.0  1.0  0.0   0.0   0.0   0.0   0.0    60.0  ...\n",
       "634995.0  0.0  463.0  1.0  0.0   0.0   0.0   0.0   0.0    68.0  ...\n",
       "634995.0  0.0  463.0  1.0  1.0   0.0   1.0   1.0   -1.0   32.0  ...\n",
       "634995.0  0.0  463.0  1.0  0.0   0.0   0.0   0.0   0.0    35.0  ...\n",
       "634995.0  0.0  463.0  1.0  0.0   0.0   0.0   0.0   0.0    48.0  ...\n",
       "634995.0  0.0  463.0  1.0  0.0   0.0   0.0   0.0   0.0    52.0  ...\n",
       "634995.0  0.0  463.0  1.0  1.0   0.0   0.0   1.0   0.0    69.0  ...\n",
       "634995.0  0.0  463.0  1.0  0.0   0.0   0.0   0.0   0.0    3.0   ...\n",
       "634995.0  0.0  463.0  1.0  1.0   1.0   0.0   1.0   1.0    37.0  ...\n",
       "634995.0  0.0  463.0  1.0  0.0   0.0   0.0   0.0   0.0    23.0  ...\n",
       "634995.0  0.0  463.0  1.0  3.0   0.0   3.0   3.0   -3.0   40.0  ...\n",
       "634995.0  0.0  463.0  1.0  3.0   0.0   3.0   2.0   -3.0   54.0  ...\n",
       "634995.0  0.0  463.0  1.0  0.0   0.0   0.0   0.0   0.0    29.0  ...\n",
       "634995.0  0.0  463.0  1.0  1.0   0.0   1.0   1.0   -1.0   36.0  ...\n",
       "634995.0  0.0  463.0  1.0  0.0   0.0   0.0   0.0   0.0    11.0  ...\n",
       "634995.0  0.0  463.0  1.0  0.0   0.0   0.0   0.0   0.0    62.0  ...\n",
       "634995.0  0.0  463.0  1.0  77.0  46.0  31.0  74.0  15.0   31.0  ...\n",
       "634995.0  0.0  463.0  1.0  6.0   0.0   1.0   6.0   -1.0   54.0  ...\n",
       "634995.0  0.0  463.0  1.0  0.0   0.0   0.0   0.0   0.0    69.0  ...\n",
       "634995.0  0.0  463.0  1.0  0.0   0.0   0.0   0.0   0.0    71.0  ...\n",
       "634995.0  0.0  463.0  1.0  0.0   0.0   0.0   0.0   0.0    61.0  ...\n",
       "634995.0  0.0  463.0  1.0  4.0   4.0   0.0   4.0   4.0    13.0  ...\n",
       "634995.0  0.0  463.0  1.0  29.0  3.0   11.0  25.0  -8.0   49.0  ...\n",
       "634995.0  0.0  463.0  1.0  3.0   1.0   2.0   3.0   -1.0   35.0  ...\n",
       "634995.0  0.0  463.0  1.0  2.0   2.0   0.0   2.0   2.0    11.0  ...\n",
       "634995.0  0.0  463.0  1.0  2.0   0.0   2.0   2.0   -2.0   37.0  ...\n",
       "634995.0  0.0  463.0  1.0  0.0   0.0   0.0   0.0   0.0    0.0   ...\n",
       "634995.0  0.0  463.0  1.0  2.0   2.0   0.0   2.0   2.0    11.0  ...\n",
       "634995.0  0.0  463.0  1.0  0.0   0.0   0.0   0.0   0.0    43.0  ...\n",
       "634995.0  0.0  463.0  1.0  2.0   2.0   0.0   2.0   2.0    18.0  ...\n",
       "634995.0  0.0  463.0  1.0  0.0   0.0   0.0   0.0   0.0    64.0  ...\n",
       "634995.0  0.0  463.0  1.0  0.0   0.0   0.0   0.0   0.0    51.0  ...\n",
       "634995.0  0.0  463.0  1.0  0.0   0.0   0.0   0.0   0.0    67.0  ...\n",
       "634995.0  0.0  463.0  1.0  8.0   8.0   0.0   8.0   8.0    12.0  ...\n",
       "...\n",
       "\u001b[36mdm2\u001b[39m: \u001b[32mDenseMatrix\u001b[39m[\u001b[32mDouble\u001b[39m] = 0.0  0.0  1.0  0.0  0.0  0.0  0.0  0.0  0.0  0.0  0.0  0.0  1.0  \n",
       "0.0  0.0  0.0  1.0  0.0  0.0  0.0  0.0  0.0  0.0  0.0  1.0  0.0  \n",
       "0.0  0.0  0.0  0.0  1.0  0.0  0.0  0.0  0.0  0.0  0.0  0.0  1.0  \n",
       "0.0  0.0  0.0  0.0  1.0  0.0  0.0  1.0  0.0  0.0  0.0  0.0  0.0  \n",
       "0.0  0.0  0.0  0.0  0.0  0.0  0.0  0.0  0.0  1.0  0.0  0.0  0.0  \n",
       "0.0  1.0  0.0  0.0  0.0  0.0  0.0  0.0  0.0  0.0  0.0  1.0  0.0  \n",
       "0.0  0.0  1.0  0.0  0.0  0.0  0.0  0.0  0.0  0.0  0.0  0.0  1.0  \n",
       "0.0  0.0  0.0  1.0  0.0  0.0  0.0  0.0  0.0  0.0  0.0  0.0  1.0  \n",
       "0.0  0.0  0.0  0.0  1.0  0.0  0.0  0.0  0.0  0.0  0.0  0.0  1.0  \n",
       "0.0  0.0  0.0  0.0  1.0  0.0  1.0  0.0  0.0  0.0  0.0  0.0  0.0  \n",
       "0.0  0.0  0.0  0.0  1.0  0.0  1.0  0.0  0.0  0.0  0.0  0.0  0.0  \n",
       "0.0  0.0  0.0  0.0  0.0  0.0  0.0  0.0  0.0  0.0  1.0  0.0  0.0  \n",
       "0.0  1.0  0.0  0.0  0.0  0.0  0.0  0.0  1.0  0.0  0.0  0.0  0.0  \n",
       "0.0  0.0  1.0  0.0  0.0  0.0  0.0  0.0  0.0  0.0  0.0  1.0  0.0  \n",
       "0.0  0.0  0.0  0.0  0.0  0.0  0.0  0.0  1.0  0.0  0.0  0.0  0.0  \n",
       "0.0  1.0  0.0  0.0  0.0  0.0  0.0  0.0  0.0  0.0  1.0  0.0  0.0  \n",
       "0.0  0.0  1.0  0.0  0.0  0.0  0.0  0.0  0.0  0.0  0.0  1.0  0.0  \n",
       "0.0  0.0  1.0  0.0  0.0  0.0  0.0  0.0  0.0  0.0  0.0  1.0  0.0  \n",
       "0.0  0.0  0.0  1.0  0.0  0.0  0.0  0.0  0.0  0.0  0.0  0.0  1.0  \n",
       "0.0  0.0  0.0  0.0  1.0  0.0  0.0  0.0  0.0  0.0  0.0  0.0  1.0  \n",
       "0.0  0.0  0.0  0.0  0.0  0.0  0.0  0.0  0.0  0.0  1.0  0.0  0.0  \n",
       "0.0  0.0  0.0  0.0  0.0  0.0  0.0  0.0  0.0  1.0  0.0  0.0  0.0  \n",
       "0.0  0.0  1.0  0.0  0.0  0.0  0.0  0.0  0.0  0.0  0.0  1.0  0.0  \n",
       "0.0  0.0  1.0  0.0  0.0  0.0  0.0  0.0  0.0  0.0  0.0  0.0  1.0  \n",
       "0.0  0.0  0.0  1.0  0.0  0.0  1.0  0.0  0.0  0.0  0.0  0.0  0.0  \n",
       "0.0  0.0  0.0  1.0  0.0  0.0  1.0  0.0  0.0  0.0  0.0  0.0  0.0  \n",
       "0.0  0.0  0.0  0.0  1.0  0.0  0.0  0.0  0.0  0.0  0.0  0.0  1.0  \n",
       "0.0  0.0  0.0  0.0  0.0  0.0  0.0  0.0  0.0  1.0  0.0  0.0  0.0  \n",
       "0.0  0.0  0.0  0.0  0.0  0.0  0.0  0.0  0.0  1.0  0.0  0.0  0.0  \n",
       "0.0  0.0  0.0  0.0  0.0  0.0  0.0  0.0  0.0  0.0  0.0  1.0  0.0  \n",
       "0.0  0.0  0.0  0.0  1.0  0.0  1.0  0.0  0.0  0.0  0.0  0.0  0.0  \n",
       "0.0  0.0  0.0  0.0  0.0  0.0  0.0  1.0  0.0  0.0  0.0  0.0  0.0  \n",
       "0.0  1.0  0.0  0.0  0.0  0.0  0.0  0.0  1.0  0.0  0.0  0.0  0.0  \n",
       "0.0  0.0  1.0  0.0  0.0  0.0  0.0  0.0  0.0  0.0  0.0  1.0  0.0  \n",
       "0.0  0.0  0.0  0.0  0.0  0.0  0.0  0.0  0.0  0.0  0.0  1.0  0.0  \n",
       "0.0  0.0  0.0  0.0  1.0  0.0  0.0  1.0  0.0  0.0  0.0  0.0  0.0  \n",
       "0.0  0.0  0.0  0.0  0.0  0.0  0.0  0.0  0.0  1.0  0.0  0.0  0.0  \n",
       "0.0  0.0  0.0  0.0  0.0  0.0  0.0  0.0  0.0  0.0  1.0  0.0  0.0  \n",
       "0.0  1.0  0.0  0.0  0.0  0.0  0.0  0.0  0.0  1.0  0.0  0.0  0.0  \n",
       "...\n",
       "\u001b[36mbias\u001b[39m: \u001b[32mDenseMatrix\u001b[39m[\u001b[32mDouble\u001b[39m] = 1.0  \n",
       "1.0  \n",
       "1.0  \n",
       "1.0  \n",
       "1.0  \n",
       "1.0  \n",
       "1.0  \n",
       "1.0  \n",
       "1.0  \n",
       "1.0  \n",
       "1.0  \n",
       "1.0  \n",
       "1.0  \n",
       "1.0  \n",
       "1.0  \n",
       "1.0  \n",
       "1.0  \n",
       "1.0  \n",
       "1.0  \n",
       "1.0  \n",
       "1.0  \n",
       "1.0  \n",
       "1.0  \n",
       "1.0  \n",
       "1.0  \n",
       "1.0  \n",
       "1.0  \n",
       "1.0  \n",
       "1.0  \n",
       "1.0  \n",
       "1.0  \n",
       "1.0  \n",
       "1.0  \n",
       "1.0  \n",
       "1.0  \n",
       "1.0  \n",
       "1.0  \n",
       "1.0  \n",
       "1.0  \n",
       "..."
      ]
     },
     "execution_count": 19,
     "metadata": {},
     "output_type": "execute_result"
    }
   ],
   "source": [
    "val dm1 = DenseMatrix(df_processed.select(\n",
    "    \"likes\", \"Checkins\", \"Returns\", \"Category\", \"commBase\",\n",
    "    \"comm24\", \"comm48\", \"comm24_1\", \"diff2448\", \"baseTime\",\n",
    "    \"length\", \"shares\", \"hrs\", \"sun_pub\"\n",
    ").collect().map(r => (\n",
    "    r.getDouble(0), r.getDouble(1), r.getDouble(2), r.getDouble(3), r.getDouble(4),\n",
    "    r.getDouble(5), r.getDouble(6), r.getDouble(7), r.getDouble(8), r.getDouble(9),\n",
    "    r.getDouble(10), r.getDouble(11), r.getDouble(12), r.getDouble(13)\n",
    ")): _*)\n",
    "\n",
    "val dm2 = DenseMatrix(df_processed.select(\n",
    "    \"mon_pub\", \"tue_pub\", \"wed_pub\", \"thu_pub\", \"fri_pub\",\n",
    "    \"sat_pub\", \"sun_base\", \"mon_base\", \"tue_base\", \"wed_base\",\n",
    "    \"thu_base\", \"fri_base\", \"sat_base\"\n",
    ").collect().map(r => (\n",
    "    r.getDouble(0), r.getDouble(1), r.getDouble(2), r.getDouble(3), r.getDouble(4),\n",
    "    r.getDouble(5), r.getDouble(6), r.getDouble(7), r.getDouble(8), r.getDouble(9),\n",
    "    r.getDouble(10), r.getDouble(11), r.getDouble(12)\n",
    ")): _*)\n",
    "\n",
    "val bias = DenseMatrix.ones[Double](dm1.rows, 1)"
   ]
  },
  {
   "cell_type": "code",
   "execution_count": 20,
   "metadata": {},
   "outputs": [
    {
     "name": "stdout",
     "output_type": "stream",
     "text": [
      "(40949,28)\n"
     ]
    },
    {
     "data": {
      "text/plain": [
       "\u001b[36mX\u001b[39m: \u001b[32mDenseMatrix\u001b[39m[\u001b[32mDouble\u001b[39m] = 634995.0  0.0  463.0  1.0  0.0   0.0   0.0   0.0   0.0    65.0  ... (28 total)\n",
       "634995.0  0.0  463.0  1.0  0.0   0.0   0.0   0.0   0.0    10.0  ...\n",
       "634995.0  0.0  463.0  1.0  0.0   0.0   0.0   0.0   0.0    14.0  ...\n",
       "634995.0  0.0  463.0  1.0  7.0   0.0   3.0   7.0   -3.0   62.0  ...\n",
       "634995.0  0.0  463.0  1.0  1.0   0.0   0.0   1.0   0.0    58.0  ...\n",
       "634995.0  0.0  463.0  1.0  0.0   0.0   0.0   0.0   0.0    60.0  ...\n",
       "634995.0  0.0  463.0  1.0  0.0   0.0   0.0   0.0   0.0    68.0  ...\n",
       "634995.0  0.0  463.0  1.0  1.0   0.0   1.0   1.0   -1.0   32.0  ...\n",
       "634995.0  0.0  463.0  1.0  0.0   0.0   0.0   0.0   0.0    35.0  ...\n",
       "634995.0  0.0  463.0  1.0  0.0   0.0   0.0   0.0   0.0    48.0  ...\n",
       "634995.0  0.0  463.0  1.0  0.0   0.0   0.0   0.0   0.0    52.0  ...\n",
       "634995.0  0.0  463.0  1.0  1.0   0.0   0.0   1.0   0.0    69.0  ...\n",
       "634995.0  0.0  463.0  1.0  0.0   0.0   0.0   0.0   0.0    3.0   ...\n",
       "634995.0  0.0  463.0  1.0  1.0   1.0   0.0   1.0   1.0    37.0  ...\n",
       "634995.0  0.0  463.0  1.0  0.0   0.0   0.0   0.0   0.0    23.0  ...\n",
       "634995.0  0.0  463.0  1.0  3.0   0.0   3.0   3.0   -3.0   40.0  ...\n",
       "634995.0  0.0  463.0  1.0  3.0   0.0   3.0   2.0   -3.0   54.0  ...\n",
       "634995.0  0.0  463.0  1.0  0.0   0.0   0.0   0.0   0.0    29.0  ...\n",
       "634995.0  0.0  463.0  1.0  1.0   0.0   1.0   1.0   -1.0   36.0  ...\n",
       "634995.0  0.0  463.0  1.0  0.0   0.0   0.0   0.0   0.0    11.0  ...\n",
       "634995.0  0.0  463.0  1.0  0.0   0.0   0.0   0.0   0.0    62.0  ...\n",
       "634995.0  0.0  463.0  1.0  77.0  46.0  31.0  74.0  15.0   31.0  ...\n",
       "634995.0  0.0  463.0  1.0  6.0   0.0   1.0   6.0   -1.0   54.0  ...\n",
       "634995.0  0.0  463.0  1.0  0.0   0.0   0.0   0.0   0.0    69.0  ...\n",
       "634995.0  0.0  463.0  1.0  0.0   0.0   0.0   0.0   0.0    71.0  ...\n",
       "634995.0  0.0  463.0  1.0  0.0   0.0   0.0   0.0   0.0    61.0  ...\n",
       "634995.0  0.0  463.0  1.0  4.0   4.0   0.0   4.0   4.0    13.0  ...\n",
       "634995.0  0.0  463.0  1.0  29.0  3.0   11.0  25.0  -8.0   49.0  ...\n",
       "634995.0  0.0  463.0  1.0  3.0   1.0   2.0   3.0   -1.0   35.0  ...\n",
       "634995.0  0.0  463.0  1.0  2.0   2.0   0.0   2.0   2.0    11.0  ...\n",
       "634995.0  0.0  463.0  1.0  2.0   0.0   2.0   2.0   -2.0   37.0  ...\n",
       "634995.0  0.0  463.0  1.0  0.0   0.0   0.0   0.0   0.0    0.0   ...\n",
       "634995.0  0.0  463.0  1.0  2.0   2.0   0.0   2.0   2.0    11.0  ...\n",
       "634995.0  0.0  463.0  1.0  0.0   0.0   0.0   0.0   0.0    43.0  ...\n",
       "634995.0  0.0  463.0  1.0  2.0   2.0   0.0   2.0   2.0    18.0  ...\n",
       "634995.0  0.0  463.0  1.0  0.0   0.0   0.0   0.0   0.0    64.0  ...\n",
       "634995.0  0.0  463.0  1.0  0.0   0.0   0.0   0.0   0.0    51.0  ...\n",
       "634995.0  0.0  463.0  1.0  0.0   0.0   0.0   0.0   0.0    67.0  ...\n",
       "634995.0  0.0  463.0  1.0  8.0   8.0   0.0   8.0   8.0    12.0  ...\n",
       "..."
      ]
     },
     "execution_count": 20,
     "metadata": {},
     "output_type": "execute_result"
    }
   ],
   "source": [
    "val X = DenseMatrix.horzcat(dm1, dm2, bias)\n",
    "println(X.rows, X.cols)"
   ]
  },
  {
   "cell_type": "markdown",
   "metadata": {},
   "source": [
    "Get target vector:"
   ]
  },
  {
   "cell_type": "code",
   "execution_count": 21,
   "metadata": {},
   "outputs": [
    {
     "data": {
      "text/plain": [
       "\u001b[36mtarget\u001b[39m: \u001b[32mDenseVector\u001b[39m[\u001b[32mDouble\u001b[39m] = DenseVector(0.0, 0.0, 0.0, 0.0, 0.0, 0.0, 0.0, 0.0, 0.0, 0.0, 0.0, 0.0, 1.3862943611198906, 0.0, 0.0, 0.0, 0.0, 0.0, 0.0, 0.0, 0.0, 1.791759469228055, 0.0, 0.0, 0.0, 0.0, 1.0986122886681096, 0.0, 0.0, 0.0, 0.0, 2.772588722239781, 0.0, 0.0, 0.0, 0.0, 0.0, 0.0, 1.0986122886681096, 0.0, 0.0, 0.0, 0.0, 0.0, 0.0, 0.0, 1.0986122886681096, 0.0, 0.0, 0.0, 0.0, 0.0, 0.0, 0.0, 0.0, 0.0, 0.0, 1.0986122886681096, 0.6931471805599453, 0.0, 0.0, 1.3862943611198906, 0.0, 0.6931471805599453, 0.0, 0.0, 1.3862943611198906, 0.6931471805599453, 0.6931471805599453, 0.0, 0.0, 0.0, 0.0, 0.0, 0.0, 0.0, 0.0, 1.0986122886681096, 1.0986122886681096, 0.0, 0.0, 0.0, 0.0, 0.0, 0.0, 0.0, 0.0, 0.0, 0.0, 0.0, 0.0, 0.0, 0.6931471805599453, 1.0986122886681096, 0.0, 0.0, 0.0, 0.6931471805599453, 0.0, 0.0, 0.6931471805599453, 0.0, 1.3862943611198906, 0.0, 0.0, 0.0, 0.6931471805599453, 0.0, 0.6931471805599453, 2.302585092994046, 0.0, 0.0, 0.0, 0.0, 0.0, 0.0, 1.0986122886681096, 0.0, 0.0, 0.0, 1.3862943611198906, 0.0, 5.83773044716594, 0.0, 0.0, 0.0, 0.0, 0.6931471805599453, 0.0, 0.0, 0.0, 0.0, 0.0, 0.0, 3.58351893845611, 4.532599493153256, 3.9512437185814275, 4.787491742782046, 1.0986122886681096, 2.0794415416798357, 4.276666119016055, 2.70805020110221, 2.1972245773362196, 3.4339872044851463, 1.0986122886681096, 1.3862943611198906, 1.6094379124341003, 2.3978952727983707, 2.0794415416798357, 6.016157159698354, 3.367295829986474, 5.921578419643816, 3.1780538303479458, 4.634728988229636, 3.295836866004329, 6.068425588244111, 1.6094379124341003, 0.6931471805599453, 1.9459101490553132, 4.983606621708336, 2.0794415416798357, 1.6094379124341003, 4.51085950651685, 6.634633357861686, 4.060443010546419, 6.218600119691729, 1.9459101490553132, 2.772588722239781, 4.04305126783455, 3.4657359027997265, 6.466144724237619, 3.784189633918261, 5.771441123130016, 4.02535169073515, 2.0794415416798357, 4.859812404361672, 5.455321115357702, 3.044522437723423, 3.9889840465642745, 3.9889840465642745, 5.638354669333745, 5.303304908059076, 4.553876891600541, 2.4849066497880004, 5.087596335232384, 4.07753744390572, 1.3862943611198906, 2.1972245773362196, 5.236441962829949, 0.6931471805599453, 1.6094379124341003, 2.8903717578961645, 1.0986122886681096, 0.0, 5.332718793265369, 5.159055299214529, 3.5553480614894135, 5.247024072160486, 1.3862943611198906, 4.5217885770490405, 0.6931471805599453, 4.663439094112067, 3.912023005428146, 4.174387269895637, 1.3862943611198906, 1.0986122886681096, 1.0986122886681096, 3.8918202981106265, 3.258096538021482, 2.9444389791664403, 2.639057329615259, 5.056245805348308, 0.0, 0.0, 1.0986122886681096, 0.0, 1.3862943611198906, 3.58351893845611, 0.0, 1.9459101490553132, 0.0, 0.0, 0.0, 0.6931471805599453, 0.0, 3.332204510175204, 0.0, 2.1972245773362196, 0.6931471805599453, 1.0986122886681096, 1.6094379124341003, 3.091042453358316, 0.6931471805599453, 0.0, 0.0, 0.6931471805599453, 0.0, 1.0986122886681096, 0.0, 0.0, 0.0, 2.5649493574615367, 1.3862943611198906, 2.302585092994046, 0.0, 0.0, 0.0, 1.6094379124341003, 2.1972245773362196, 1.0986122886681096, 1.0986122886681096, 0.0, 0.6931471805599453, 0.0, 0.0,..."
      ]
     },
     "execution_count": 21,
     "metadata": {},
     "output_type": "execute_result"
    }
   ],
   "source": [
    "val target = DenseVector(df_processed.select(\"output_log\").collect().map(r => r.getDouble(0)): _*)"
   ]
  },
  {
   "cell_type": "markdown",
   "metadata": {},
   "source": [
    "### 3.2. Scaling X"
   ]
  },
  {
   "cell_type": "markdown",
   "metadata": {},
   "source": [
    "We can notice that features in `X` matrix have different scale:"
   ]
  },
  {
   "cell_type": "code",
   "execution_count": 22,
   "metadata": {},
   "outputs": [
    {
     "name": "stdout",
     "output_type": "stream",
     "text": [
      "Mean, std of column 0: 1313813.7475396225, 4.604530230108423E13\n",
      "Mean, std of column 1: 4676.133751739969, 4.240689065247651E8\n",
      "Mean, std of column 2: 44800.24376663655, 1.2306007625815887E10\n",
      "Mean, std of column 3: 24.238662726806517, 398.2900815447012\n",
      "Mean, std of column 4: 55.712032039854456, 18762.75738801233\n",
      "Mean, std of column 5: 22.18664680456177, 5948.006653603457\n",
      "Mean, std of column 6: 19.649539671298445, 5052.045899628512\n",
      "Mean, std of column 7: 52.631590515030894, 16429.690594993812\n",
      "Mean, std of column 8: 2.5369606095386943, 8873.983523656447\n",
      "Mean, std of column 9: 35.32203472612274, 437.50451361612926\n",
      "Mean, std of column 10: 163.6524701457911, 141571.43127556986\n",
      "Mean, std of column 11: 117.12146816772082, 893045.5529025972\n",
      "Mean, std of column 12: 23.767833158318883, 3.685652637086797\n",
      "Mean, std of column 13: 0.12234731006862194, 0.10737844578756893\n",
      "Mean, std of column 14: 0.12036923978607536, 0.10588048589944102\n",
      "Mean, std of column 15: 0.14974724657500793, 0.1273230087182284\n",
      "Mean, std of column 16: 0.15748858335978902, 0.1326859294710913\n",
      "Mean, std of column 17: 0.12549757014823318, 0.10974793003510717\n",
      "Mean, std of column 18: 0.14615741532149748, 0.12479542526794948\n",
      "Mean, std of column 19: 0.1369264206696134, 0.11817757599215149\n",
      "Mean, std of column 20: 0.14163960047864416, 0.12157782405499318\n",
      "Mean, std of column 21: 0.08439766538865418, 0.07727469946557514\n",
      "Mean, std of column 22: 0.13763461867200663, 0.11869133041504756\n",
      "Mean, std of column 23: 0.14859947739871548, 0.12651767271552544\n",
      "Mean, std of column 24: 0.15084617450975604, 0.12809160614543647\n",
      "Mean, std of column 25: 0.14388629758968474, 0.12318303095554357\n",
      "Mean, std of column 26: 0.1448875430413441, 0.12389514291281682\n"
     ]
    }
   ],
   "source": [
    "for (i <- 0 to (X.cols - 2)) {\n",
    "    val col_mean_i = X(::, i).reduce(_ + _) / X(::, i).length\n",
    "    val col_std_i = (\n",
    "        X(::, i) - DenseVector(Array.fill[Double](X.rows)(col_mean_i))\n",
    "    ).map(x => x * x).reduce(_ + _) / X.rows\n",
    "    println(s\"Mean, std of column $i: $col_mean_i, $col_std_i\")\n",
    "}"
   ]
  },
  {
   "cell_type": "markdown",
   "metadata": {},
   "source": [
    "Thus let's perform standard scaling - subtract mean and divide by std each column $x_i$ of `X` (except bias):\n",
    "\n",
    "$$\n",
    "x_i = \\frac{x_i - \\text{mean}(x_i)}{\\text{std}(x_i)}\n",
    "$$"
   ]
  },
  {
   "cell_type": "code",
   "execution_count": 23,
   "metadata": {},
   "outputs": [],
   "source": [
    "for (i <- 0 to (X.cols - 2)) {\n",
    "    val col_mean_i = X(::, i).reduce(_ + _) / X(::, i).length\n",
    "    val col_std_i = (\n",
    "        X(::, i) - DenseVector(Array.fill[Double](X.rows)(col_mean_i))\n",
    "    ).map(x => x * x).reduce(_ + _) / X.rows\n",
    "    X(::, i) := (\n",
    "        X(::, i) - DenseVector(Array.fill[Double](X.rows)(col_mean_i))\n",
    "    ) / DenseVector(Array.fill[Double](X.rows)(col_std_i))\n",
    "}"
   ]
  },
  {
   "cell_type": "markdown",
   "metadata": {},
   "source": [
    "Check the results:"
   ]
  },
  {
   "cell_type": "code",
   "execution_count": 24,
   "metadata": {},
   "outputs": [
    {
     "name": "stdout",
     "output_type": "stream",
     "text": [
      "Mean, std of column 0: -6.737644551622921E-23, 2.171774209367018E-14\n",
      "Mean, std of column 1: 6.004380318896852E-19, 2.358107337306568E-9\n",
      "Mean, std of column 2: 3.87059037071051E-21, 8.126112305522776E-11\n",
      "Mean, std of column 3: 5.969366955093793E-16, 0.0025107328711815495\n",
      "Mean, std of column 4: 2.1138132338982717E-17, 5.329707032501064E-5\n",
      "Mean, std of column 5: 3.5991625319052855E-17, 1.6812355100412048E-4\n",
      "Mean, std of column 6: 3.1849538269622874E-17, 1.9793961097477674E-4\n",
      "Mean, std of column 7: 2.2929579904298288E-17, 6.086541887192017E-5\n",
      "Mean, std of column 8: -3.324650135404035E-19, 1.1268896289179112E-4\n",
      "Mean, std of column 9: 2.9336394224863585E-19, 0.0022856907046160052\n",
      "Mean, std of column 10: -1.8131129425577618E-18, 7.063572014422638E-6\n",
      "Mean, std of column 11: 3.50702295437593E-19, 1.1197637083014907E-6\n",
      "Mean, std of column 12: -2.9480869082429613E-15, 0.27132236769623935\n",
      "Mean, std of column 13: -1.8284548187208375E-14, 9.312855970913379\n",
      "Mean, std of column 14: 9.822289424133222E-15, 9.444610982887326\n",
      "Mean, std of column 15: -5.655589796575454E-15, 7.854039973345257\n",
      "Mean, std of column 16: 1.3260101025267321E-14, 7.536594151212119\n",
      "Mean, std of column 17: 1.8666983946229415E-14, 9.111789167045261\n",
      "Mean, std of column 18: -8.671609372539258E-17, 8.013114245599356\n",
      "Mean, std of column 19: -8.582355564215098E-16, 8.461842203189297\n",
      "Mean, std of column 20: -1.2486098072643351E-15, 8.225184220657985\n",
      "Mean, std of column 21: 9.050994451574687E-14, 12.940846187908779\n",
      "Mean, std of column 22: -3.860362771697191E-16, 8.425215190546254\n",
      "Mean, std of column 23: -1.5911253635586166E-15, 7.904034104774419\n",
      "Mean, std of column 24: 6.722232453187167E-16, 7.806912803211307\n",
      "Mean, std of column 25: 5.947101627408189E-15, 8.118001255880598\n",
      "Mean, std of column 26: -2.49780524097454E-16, 8.071341430258578\n"
     ]
    }
   ],
   "source": [
    "for (i <- 0 to (X.cols - 2)) {\n",
    "    val col_mean_i = X(::, i).reduce(_ + _) / X(::, i).length\n",
    "    val col_std_i = (\n",
    "        X(::, i) - DenseVector(Array.fill[Double](X.rows)(col_mean_i))\n",
    "    ).map(x => x * x).reduce(_ + _) / X.rows\n",
    "    println(s\"Mean, std of column $i: $col_mean_i, $col_std_i\")\n",
    "}"
   ]
  },
  {
   "cell_type": "markdown",
   "metadata": {},
   "source": [
    "This is much better - we can see that all means are around zero and standard deviations are not so big."
   ]
  },
  {
   "cell_type": "markdown",
   "metadata": {},
   "source": [
    "### 3.3. Quality metric"
   ]
  },
  {
   "cell_type": "markdown",
   "metadata": {},
   "source": [
    "As a quality metric, I decided to use a pretty standard RMSE. However, since we performed log transformation of target, it becomes RMSLE (RMSE on log-targets).\n",
    "\n",
    "Let's generate a random vector with weights and calculate RMSLE:"
   ]
  },
  {
   "cell_type": "code",
   "execution_count": 25,
   "metadata": {},
   "outputs": [
    {
     "name": "stderr",
     "output_type": "stream",
     "text": [
      "21/06/14 15:18:39 WARN BLAS: Failed to load implementation from: com.github.fommil.netlib.NativeSystemBLAS\n",
      "21/06/14 15:18:39 WARN BLAS: Failed to load implementation from: com.github.fommil.netlib.NativeRefBLAS\n"
     ]
    },
    {
     "name": "stdout",
     "output_type": "stream",
     "text": [
      "8.461787900655793\n"
     ]
    },
    {
     "data": {
      "text/plain": [
       "\u001b[36mw\u001b[39m: \u001b[32mDenseVector\u001b[39m[\u001b[32mDouble\u001b[39m] = DenseVector(-0.22801028404242707, 0.8917826998425835, 0.6590668623433276, 1.4887770774767686, 1.0970490378117443, -1.3634934607706388, 0.8325157949187117, -0.5738118191617432, 0.7860910693655725, 0.10191685248508559, -1.3993552113271648, 0.32129351706257975, -0.38793135696241693, 0.638093129694175, -1.7688859642469306, -1.743910264517766, -0.14194577044234596, -0.9694645795349695, -0.7048142992830599, -0.471880663056795, -1.6687859863855858, -0.3677601607482501, 0.22041821930243535, 0.5791813017644524, 0.7324636138882982, 0.21589344952591064, 0.4506003183601724, 1.7527420334335948)\n",
       "defined \u001b[32mfunction\u001b[39m \u001b[36mcalculateRMSLE\u001b[39m"
      ]
     },
     "execution_count": 25,
     "metadata": {},
     "output_type": "execute_result"
    }
   ],
   "source": [
    "val w = DenseVector(Gaussian(0.0,1.0).sample(X.cols).toArray)\n",
    "\n",
    "// https://databricks-prod-cloudfront.cloud.databricks.com/public/4027ec902e239c93eaaa8714f173bcfc/8623654525287098/4373605817327958/8746817301327119/latest.html\n",
    "\n",
    "def calculateRMSLE(X: DenseMatrix[Double], y: DenseVector[Double], w: DenseVector[Double]): Double = {\n",
    "    val residuals = X * w - target\n",
    "    val rmsle = sqrt(residuals.map(x => x * x).reduce(_ + _) / residuals.length)\n",
    "    rmsle\n",
    "}\n",
    "\n",
    "println(calculateRMSLE(X, target, w))"
   ]
  },
  {
   "cell_type": "markdown",
   "metadata": {},
   "source": [
    "### 3.4. Linear Regression"
   ]
  },
  {
   "cell_type": "markdown",
   "metadata": {},
   "source": [
    "Finally, let's estimate weights according to the following formula:\n",
    "\n",
    "$$\n",
    "\\hat{w} = \\left(X^TX\\right)^{-1}X^Ty\n",
    "$$"
   ]
  },
  {
   "cell_type": "code",
   "execution_count": 26,
   "metadata": {},
   "outputs": [
    {
     "name": "stderr",
     "output_type": "stream",
     "text": [
      "21/06/14 15:18:40 WARN LAPACK: Failed to load implementation from: com.github.fommil.netlib.NativeSystemLAPACK\n",
      "21/06/14 15:18:40 WARN LAPACK: Failed to load implementation from: com.github.fommil.netlib.NativeRefLAPACK\n"
     ]
    },
    {
     "data": {
      "text/plain": [
       "\u001b[36mw_hat\u001b[39m: \u001b[32mDenseVector\u001b[39m[\u001b[32mDouble\u001b[39m] = DenseVector(-153876.98519518785, 247.4862230863165, 15285.259134671296, -1.600776387967798, 193.13741415074847, 534.9723800728724, -421.04765447710975, -155.40304862121866, -745.7131599658776, -10.25922272678158, 6.88625786502682, -15.07578567454206, 0.09627311699629464, -0.007115344298176117, -0.008089431208170118, -0.008959306180004411, -0.007447259500170732, -0.003846888718764723, -0.005689792545439303, -0.006828018002001336, -0.006673614492336606, -0.004701287014236966, -0.00907858775797032, -0.0076403881391018036, -0.006266660481077794, -0.00802630927519898, -0.007815401072763942, 0.8154149008981803)"
      ]
     },
     "execution_count": 26,
     "metadata": {},
     "output_type": "execute_result"
    }
   ],
   "source": [
    "val w_hat = pinv(X.t * X) * X.t * target"
   ]
  },
  {
   "cell_type": "markdown",
   "metadata": {},
   "source": [
    "Calculate RMSLE for them:"
   ]
  },
  {
   "cell_type": "code",
   "execution_count": 27,
   "metadata": {},
   "outputs": [
    {
     "name": "stdout",
     "output_type": "stream",
     "text": [
      "0.8294968930349942\n"
     ]
    }
   ],
   "source": [
    "println(calculateRMSLE(X, target, w_hat))"
   ]
  },
  {
   "cell_type": "markdown",
   "metadata": {},
   "source": [
    "We can see that we got much better result than in the random weights case."
   ]
  },
  {
   "cell_type": "markdown",
   "metadata": {},
   "source": [
    "### 3.5. Ridge Regression"
   ]
  },
  {
   "cell_type": "markdown",
   "metadata": {},
   "source": [
    "We can also add a regularization constant and construct Ridge regression. Weights estimation formula in this case looks like this:\n",
    "\n",
    "$$\n",
    "\\hat{w} = \\left(X^TX + \\lambda I\\right)^{-1}X^Ty\n",
    "$$\n",
    "\n",
    "Let's tune $\\lambda$ and try to find an optimal one:"
   ]
  },
  {
   "cell_type": "code",
   "execution_count": 35,
   "metadata": {},
   "outputs": [
    {
     "name": "stdout",
     "output_type": "stream",
     "text": [
      "Lambda: 1.0, RMSLE: 0.8438610177336333\n",
      "Lambda: 0.25, RMSLE: 0.8419898331546325\n",
      "Lambda: 0.1111111111111111, RMSLE: 0.8414774704709597\n",
      "Lambda: 0.0625, RMSLE: 0.8410408373724688\n",
      "Lambda: 0.04, RMSLE: 0.8406114066536552\n",
      "Lambda: 0.027777777777777776, RMSLE: 0.8401890030379445\n",
      "Lambda: 0.02040816326530612, RMSLE: 0.8397817052638199\n",
      "Lambda: 0.015625, RMSLE: 0.8393977696650294\n",
      "Lambda: 0.012345679012345678, RMSLE: 0.8390434673449316\n",
      "Lambda: 0.01, RMSLE: 0.8387224744406767\n",
      "Lambda: 0.008264462809917356, RMSLE: 0.8384360328443419\n",
      "Lambda: 0.006944444444444444, RMSLE: 0.8381834679242194\n",
      "Lambda: 0.005917159763313609, RMSLE: 0.8379627921746231\n",
      "Lambda: 0.00510204081632653, RMSLE: 0.8377712474217657\n",
      "Lambda: 0.0044444444444444444, RMSLE: 0.8376057272788819\n",
      "Lambda: 0.00390625, RMSLE: 0.8374630736980432\n",
      "Lambda: 0.0034602076124567475, RMSLE: 0.8373402657522931\n",
      "Lambda: 0.0030864197530864196, RMSLE: 0.8372345263336365\n",
      "Lambda: 0.002770083102493075, RMSLE: 0.8371433713432606\n",
      "Lambda: 0.0025, RMSLE: 0.837064621201728\n"
     ]
    }
   ],
   "source": [
    "for (x <- 1 to 20) {\n",
    "    val lambda = 1.0 / (x * x)\n",
    "    val w_hat_ridge = pinv(X.t * X + DenseMatrix.eye[Double](X.cols) *:* lambda) * X.t * target\n",
    "    val rmsle = calculateRMSLE(X, target, w_hat_ridge)\n",
    "    println(s\"Lambda: $lambda, RMSLE: $rmsle\")\n",
    "}"
   ]
  },
  {
   "cell_type": "markdown",
   "metadata": {},
   "source": [
    "Optimal lambda is 0.0025, but RMSLE is better for a regular linear regression."
   ]
  }
 ],
 "metadata": {
  "kernelspec": {
   "display_name": "Scala 2.12",
   "language": "scala",
   "name": "scala212"
  },
  "language_info": {
   "codemirror_mode": "text/x-scala",
   "file_extension": ".sc",
   "mimetype": "text/x-scala",
   "name": "scala",
   "nbconvert_exporter": "script",
   "version": "2.12.12"
  }
 },
 "nbformat": 4,
 "nbformat_minor": 4
}
